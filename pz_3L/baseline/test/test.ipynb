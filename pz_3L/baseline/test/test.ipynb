{
 "cells": [
  {
   "cell_type": "code",
   "execution_count": 22,
   "outputs": [],
   "source": [
    "import numpy as np\n",
    "import pandas as pd\n",
    "from tools.torch_lib import plot_relative_error_hist, plot_relative_error_shader\n",
    "import torch"
   ],
   "metadata": {
    "collapsed": false,
    "pycharm": {
     "name": "#%%\n"
    }
   }
  },
  {
   "cell_type": "code",
   "execution_count": 23,
   "metadata": {
    "collapsed": true,
    "pycharm": {
     "name": "#%%\n"
    }
   },
   "outputs": [],
   "source": [
    "data_dir = \"data/\"\n",
    "predictions_file_name = \"test_predictions.csv\"\n",
    "actuals_file_name = \"test_data.csv\""
   ]
  },
  {
   "cell_type": "code",
   "execution_count": 24,
   "outputs": [],
   "source": [
    "inputs = np.array(['ro_well', 'ro_formation', 'r_well', 'invasion_zone_h', 'invasion_zone_ro'])\n",
    "outputs = np.array(['PZ']) # 'A02M01N' dropped"
   ],
   "metadata": {
    "collapsed": false,
    "pycharm": {
     "name": "#%%\n"
    }
   }
  },
  {
   "cell_type": "code",
   "execution_count": 25,
   "outputs": [],
   "source": [
    "predicted_df = pd.read_csv(data_dir + predictions_file_name)\n",
    "actuals_df = pd.read_csv(data_dir + actuals_file_name)"
   ],
   "metadata": {
    "collapsed": false,
    "pycharm": {
     "name": "#%%\n"
    }
   }
  },
  {
   "cell_type": "code",
   "execution_count": 26,
   "outputs": [
    {
     "name": "stdout",
     "output_type": "stream",
     "text": [
      "ro_well: min=0.0103848 max=3.16228\n",
      "ro_formation: min=0.100035 max=9985.96\n",
      "rad_well: min=0.0400049 max=0.2\n",
      "kanisotrop: min=1.00049 max=4.99976\n",
      "A04M01N: min=0.0838481 max=607.745\n",
      "A10M01N: min=0.0950067 max=2721.8\n",
      "A20M05N: min=0.0975904 max=8570.9\n",
      "A40M05N: min=0.0990607 max=18890.5\n",
      "A80M10N: min=0.0997747 max=29933.0\n"
     ]
    }
   ],
   "source": [
    "for column in actuals_df.columns:\n",
    "    print(f\"{column}: min={actuals_df[column].min()} max={actuals_df[column].max()}\")"
   ],
   "metadata": {
    "collapsed": false,
    "pycharm": {
     "name": "#%%\n"
    }
   }
  },
  {
   "cell_type": "code",
   "execution_count": 27,
   "outputs": [
    {
     "data": {
      "text/plain": "         A04M01N     A10M01N     A20M05N      A40M05N      A80M10N\n0      56.784100  151.985000  202.982000   157.693000   111.235000\n1      37.506500   50.719700   32.315700    24.725000    22.256000\n2       0.435313    0.303596    0.287346     0.284386     0.283256\n3       3.465120    2.894360    2.256830     2.087000     2.036030\n4       1.793970    1.242060    1.141670     1.122020     1.114480\n...          ...         ...         ...          ...          ...\n13382  20.236200  107.937000  460.214000  1495.680000  4854.140000\n13383   0.879692    0.692841    0.620374     0.602639     0.596962\n13384   0.263656    0.247015    0.244228     0.243436     0.243213\n13385  46.137100  240.937000  984.135000  3010.300000  8591.010000\n13386  21.683400  109.340000  418.159000  1145.950000  2629.030000\n\n[13387 rows x 5 columns]",
      "text/html": "<div>\n<style scoped>\n    .dataframe tbody tr th:only-of-type {\n        vertical-align: middle;\n    }\n\n    .dataframe tbody tr th {\n        vertical-align: top;\n    }\n\n    .dataframe thead th {\n        text-align: right;\n    }\n</style>\n<table border=\"1\" class=\"dataframe\">\n  <thead>\n    <tr style=\"text-align: right;\">\n      <th></th>\n      <th>A04M01N</th>\n      <th>A10M01N</th>\n      <th>A20M05N</th>\n      <th>A40M05N</th>\n      <th>A80M10N</th>\n    </tr>\n  </thead>\n  <tbody>\n    <tr>\n      <th>0</th>\n      <td>56.784100</td>\n      <td>151.985000</td>\n      <td>202.982000</td>\n      <td>157.693000</td>\n      <td>111.235000</td>\n    </tr>\n    <tr>\n      <th>1</th>\n      <td>37.506500</td>\n      <td>50.719700</td>\n      <td>32.315700</td>\n      <td>24.725000</td>\n      <td>22.256000</td>\n    </tr>\n    <tr>\n      <th>2</th>\n      <td>0.435313</td>\n      <td>0.303596</td>\n      <td>0.287346</td>\n      <td>0.284386</td>\n      <td>0.283256</td>\n    </tr>\n    <tr>\n      <th>3</th>\n      <td>3.465120</td>\n      <td>2.894360</td>\n      <td>2.256830</td>\n      <td>2.087000</td>\n      <td>2.036030</td>\n    </tr>\n    <tr>\n      <th>4</th>\n      <td>1.793970</td>\n      <td>1.242060</td>\n      <td>1.141670</td>\n      <td>1.122020</td>\n      <td>1.114480</td>\n    </tr>\n    <tr>\n      <th>...</th>\n      <td>...</td>\n      <td>...</td>\n      <td>...</td>\n      <td>...</td>\n      <td>...</td>\n    </tr>\n    <tr>\n      <th>13382</th>\n      <td>20.236200</td>\n      <td>107.937000</td>\n      <td>460.214000</td>\n      <td>1495.680000</td>\n      <td>4854.140000</td>\n    </tr>\n    <tr>\n      <th>13383</th>\n      <td>0.879692</td>\n      <td>0.692841</td>\n      <td>0.620374</td>\n      <td>0.602639</td>\n      <td>0.596962</td>\n    </tr>\n    <tr>\n      <th>13384</th>\n      <td>0.263656</td>\n      <td>0.247015</td>\n      <td>0.244228</td>\n      <td>0.243436</td>\n      <td>0.243213</td>\n    </tr>\n    <tr>\n      <th>13385</th>\n      <td>46.137100</td>\n      <td>240.937000</td>\n      <td>984.135000</td>\n      <td>3010.300000</td>\n      <td>8591.010000</td>\n    </tr>\n    <tr>\n      <th>13386</th>\n      <td>21.683400</td>\n      <td>109.340000</td>\n      <td>418.159000</td>\n      <td>1145.950000</td>\n      <td>2629.030000</td>\n    </tr>\n  </tbody>\n</table>\n<p>13387 rows × 5 columns</p>\n</div>"
     },
     "execution_count": 27,
     "metadata": {},
     "output_type": "execute_result"
    }
   ],
   "source": [
    "predicted_df"
   ],
   "metadata": {
    "collapsed": false,
    "pycharm": {
     "name": "#%%\n"
    }
   }
  },
  {
   "cell_type": "code",
   "execution_count": 28,
   "outputs": [
    {
     "data": {
      "text/plain": "         A04M01N     A10M01N     A20M05N      A40M05N      A80M10N\n0      56.125700  148.809000  198.716000   154.676000   109.378000\n1      31.953600   41.111900   29.646000    23.861700    22.290600\n2       0.377429    0.285102    0.281183     0.281372     0.281647\n3       2.745790    2.424940    2.140400     2.052610     2.022450\n4       1.424950    1.167840    1.123090     1.112830     1.109560\n...          ...         ...         ...          ...          ...\n13382  20.181700  107.418000  457.786000  1484.290000  4789.590000\n13383   0.727275    0.641098    0.607050     0.597612     0.594346\n13384   0.248941    0.242793    0.242046     0.241925     0.241898\n13385  46.046800  239.603000  977.941000  2959.590000  8313.610000\n13386  21.594900  108.094000  409.804000  1102.730000  2453.120000\n\n[13387 rows x 5 columns]",
      "text/html": "<div>\n<style scoped>\n    .dataframe tbody tr th:only-of-type {\n        vertical-align: middle;\n    }\n\n    .dataframe tbody tr th {\n        vertical-align: top;\n    }\n\n    .dataframe thead th {\n        text-align: right;\n    }\n</style>\n<table border=\"1\" class=\"dataframe\">\n  <thead>\n    <tr style=\"text-align: right;\">\n      <th></th>\n      <th>A04M01N</th>\n      <th>A10M01N</th>\n      <th>A20M05N</th>\n      <th>A40M05N</th>\n      <th>A80M10N</th>\n    </tr>\n  </thead>\n  <tbody>\n    <tr>\n      <th>0</th>\n      <td>56.125700</td>\n      <td>148.809000</td>\n      <td>198.716000</td>\n      <td>154.676000</td>\n      <td>109.378000</td>\n    </tr>\n    <tr>\n      <th>1</th>\n      <td>31.953600</td>\n      <td>41.111900</td>\n      <td>29.646000</td>\n      <td>23.861700</td>\n      <td>22.290600</td>\n    </tr>\n    <tr>\n      <th>2</th>\n      <td>0.377429</td>\n      <td>0.285102</td>\n      <td>0.281183</td>\n      <td>0.281372</td>\n      <td>0.281647</td>\n    </tr>\n    <tr>\n      <th>3</th>\n      <td>2.745790</td>\n      <td>2.424940</td>\n      <td>2.140400</td>\n      <td>2.052610</td>\n      <td>2.022450</td>\n    </tr>\n    <tr>\n      <th>4</th>\n      <td>1.424950</td>\n      <td>1.167840</td>\n      <td>1.123090</td>\n      <td>1.112830</td>\n      <td>1.109560</td>\n    </tr>\n    <tr>\n      <th>...</th>\n      <td>...</td>\n      <td>...</td>\n      <td>...</td>\n      <td>...</td>\n      <td>...</td>\n    </tr>\n    <tr>\n      <th>13382</th>\n      <td>20.181700</td>\n      <td>107.418000</td>\n      <td>457.786000</td>\n      <td>1484.290000</td>\n      <td>4789.590000</td>\n    </tr>\n    <tr>\n      <th>13383</th>\n      <td>0.727275</td>\n      <td>0.641098</td>\n      <td>0.607050</td>\n      <td>0.597612</td>\n      <td>0.594346</td>\n    </tr>\n    <tr>\n      <th>13384</th>\n      <td>0.248941</td>\n      <td>0.242793</td>\n      <td>0.242046</td>\n      <td>0.241925</td>\n      <td>0.241898</td>\n    </tr>\n    <tr>\n      <th>13385</th>\n      <td>46.046800</td>\n      <td>239.603000</td>\n      <td>977.941000</td>\n      <td>2959.590000</td>\n      <td>8313.610000</td>\n    </tr>\n    <tr>\n      <th>13386</th>\n      <td>21.594900</td>\n      <td>108.094000</td>\n      <td>409.804000</td>\n      <td>1102.730000</td>\n      <td>2453.120000</td>\n    </tr>\n  </tbody>\n</table>\n<p>13387 rows × 5 columns</p>\n</div>"
     },
     "execution_count": 28,
     "metadata": {},
     "output_type": "execute_result"
    }
   ],
   "source": [
    "actuals_df = actuals_df[outputs]\n",
    "actuals_df"
   ],
   "metadata": {
    "collapsed": false,
    "pycharm": {
     "name": "#%%\n"
    }
   }
  },
  {
   "cell_type": "markdown",
   "source": [
    "Plot relative errors"
   ],
   "metadata": {
    "collapsed": false,
    "pycharm": {
     "name": "#%% md\n"
    }
   }
  },
  {
   "cell_type": "code",
   "execution_count": 29,
   "outputs": [],
   "source": [
    "threshold = 0.05\n",
    "def save_and_show_fig(fig, fig_name: str, show=True):\n",
    "    if fig is not None:\n",
    "        if show:\n",
    "            fig.show('browser')\n",
    "        fig.write_image(fig_name)\n",
    "\n",
    "for output in outputs:\n",
    "    actuals = torch.tensor(actuals_df[output].to_numpy())\n",
    "    predicted = torch.tensor(predicted_df[output].to_numpy())\n",
    "    # plot hist and default relative error distribution\n",
    "    hist = plot_relative_error_hist(actuals, predicted, threshold, \"relative error hist \" + output)\n",
    "    dist = plot_relative_error_shader(actuals, predicted, threshold, \"relative error \" + output, width=10000, height=500)\n",
    "\n",
    "    save_and_show_fig(hist, \"relative_error_hist_\" + output + \".pdf\")\n",
    "    save_and_show_fig(dist, \"relative_error_\" + output + \".pdf\", False)"
   ],
   "metadata": {
    "collapsed": false,
    "pycharm": {
     "name": "#%%\n"
    }
   }
  }
 ],
 "metadata": {
  "kernelspec": {
   "display_name": "Python 3",
   "language": "python",
   "name": "python3"
  },
  "language_info": {
   "codemirror_mode": {
    "name": "ipython",
    "version": 2
   },
   "file_extension": ".py",
   "mimetype": "text/x-python",
   "name": "python",
   "nbconvert_exporter": "python",
   "pygments_lexer": "ipython2",
   "version": "2.7.6"
  }
 },
 "nbformat": 4,
 "nbformat_minor": 0
}