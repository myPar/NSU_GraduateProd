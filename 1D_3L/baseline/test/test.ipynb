{
 "cells": [
  {
   "cell_type": "code",
   "execution_count": 1,
   "outputs": [],
   "source": [
    "import numpy as np\n",
    "import pandas as pd\n",
    "from tools.torch_lib import plot_relative_error_hist, plot_relative_error_shader\n",
    "import torch"
   ],
   "metadata": {
    "collapsed": false,
    "pycharm": {
     "name": "#%%\n"
    }
   }
  },
  {
   "cell_type": "code",
   "execution_count": 2,
   "metadata": {
    "collapsed": true,
    "pycharm": {
     "name": "#%%\n"
    }
   },
   "outputs": [],
   "source": [
    "data_dir = \"data/\"\n",
    "predictions_file_name = \"test_predictions.csv\"\n",
    "actuals_file_name = \"test_data.csv\""
   ]
  },
  {
   "cell_type": "code",
   "execution_count": 3,
   "outputs": [],
   "source": [
    "inputs = np.array(['ro_well', 'ro_formation', 'd_well', 'invasion_zone_ro', 'invasion_zone_h'])\n",
    "outputs = np.array(['A04M01N', 'A10M01N', 'A20M05N', 'A40M05N', 'A80M10N']) # 'A02M01N' dropped"
   ],
   "metadata": {
    "collapsed": false,
    "pycharm": {
     "name": "#%%\n"
    }
   }
  },
  {
   "cell_type": "code",
   "execution_count": 4,
   "outputs": [],
   "source": [
    "predicted_df = pd.read_csv(data_dir + predictions_file_name)\n",
    "actuals_df = pd.read_csv(data_dir + actuals_file_name)"
   ],
   "metadata": {
    "collapsed": false,
    "pycharm": {
     "name": "#%%\n"
    }
   }
  },
  {
   "cell_type": "code",
   "execution_count": 5,
   "outputs": [
    {
     "name": "stdout",
     "output_type": "stream",
     "text": [
      "ro_well: min=0.01 max=1000.0\n",
      "ro_formation: min=0.1 max=10000.0\n",
      "d_well: min=0.0800098 max=0.4\n",
      "invasion_zone_ro: min=0.1 max=10000.0\n",
      "invasion_zone_h: min=0.0 max=2.5\n",
      "A04M01N: min=0.0569738 max=12714.2\n",
      "A10M01N: min=0.0929708 max=15451.9\n",
      "A20M05N: min=0.0879442 max=18598.8\n",
      "A40M05N: min=0.0907569 max=20065.2\n",
      "A80M10N: min=0.0917257 max=21505.7\n"
     ]
    }
   ],
   "source": [
    "for column in actuals_df.columns:\n",
    "    print(f\"{column}: min={actuals_df[column].min()} max={actuals_df[column].max()}\")"
   ],
   "metadata": {
    "collapsed": false,
    "pycharm": {
     "name": "#%%\n"
    }
   }
  },
  {
   "cell_type": "code",
   "execution_count": 6,
   "outputs": [
    {
     "data": {
      "text/plain": "        A04M01N    A10M01N    A20M05N     A40M05N     A80M10N\n0      0.005092   0.037489   0.180477    0.556485    1.641830\n1      0.383226   2.072770   9.297190   35.626300  216.765000\n2      0.010858   0.088471   0.535373    2.470670   17.155700\n3      0.022535   0.145517   0.662422    2.070700    6.984790\n4      3.382870   3.579920   1.728610    0.495093    0.145502\n...         ...        ...        ...         ...         ...\n48272  1.897200   5.038470   8.420350    8.654340    5.435820\n48273  0.467256   1.304470   2.106930    1.923480    0.979612\n48274  1.015730   4.181290  13.307900   32.613600   87.144500\n48275  0.074169   0.371897   1.267540    2.867370    5.506410\n48276  4.266670  17.132300  59.422400  185.290000  876.338000\n\n[48277 rows x 5 columns]",
      "text/html": "<div>\n<style scoped>\n    .dataframe tbody tr th:only-of-type {\n        vertical-align: middle;\n    }\n\n    .dataframe tbody tr th {\n        vertical-align: top;\n    }\n\n    .dataframe thead th {\n        text-align: right;\n    }\n</style>\n<table border=\"1\" class=\"dataframe\">\n  <thead>\n    <tr style=\"text-align: right;\">\n      <th></th>\n      <th>A04M01N</th>\n      <th>A10M01N</th>\n      <th>A20M05N</th>\n      <th>A40M05N</th>\n      <th>A80M10N</th>\n    </tr>\n  </thead>\n  <tbody>\n    <tr>\n      <th>0</th>\n      <td>0.005092</td>\n      <td>0.037489</td>\n      <td>0.180477</td>\n      <td>0.556485</td>\n      <td>1.641830</td>\n    </tr>\n    <tr>\n      <th>1</th>\n      <td>0.383226</td>\n      <td>2.072770</td>\n      <td>9.297190</td>\n      <td>35.626300</td>\n      <td>216.765000</td>\n    </tr>\n    <tr>\n      <th>2</th>\n      <td>0.010858</td>\n      <td>0.088471</td>\n      <td>0.535373</td>\n      <td>2.470670</td>\n      <td>17.155700</td>\n    </tr>\n    <tr>\n      <th>3</th>\n      <td>0.022535</td>\n      <td>0.145517</td>\n      <td>0.662422</td>\n      <td>2.070700</td>\n      <td>6.984790</td>\n    </tr>\n    <tr>\n      <th>4</th>\n      <td>3.382870</td>\n      <td>3.579920</td>\n      <td>1.728610</td>\n      <td>0.495093</td>\n      <td>0.145502</td>\n    </tr>\n    <tr>\n      <th>...</th>\n      <td>...</td>\n      <td>...</td>\n      <td>...</td>\n      <td>...</td>\n      <td>...</td>\n    </tr>\n    <tr>\n      <th>48272</th>\n      <td>1.897200</td>\n      <td>5.038470</td>\n      <td>8.420350</td>\n      <td>8.654340</td>\n      <td>5.435820</td>\n    </tr>\n    <tr>\n      <th>48273</th>\n      <td>0.467256</td>\n      <td>1.304470</td>\n      <td>2.106930</td>\n      <td>1.923480</td>\n      <td>0.979612</td>\n    </tr>\n    <tr>\n      <th>48274</th>\n      <td>1.015730</td>\n      <td>4.181290</td>\n      <td>13.307900</td>\n      <td>32.613600</td>\n      <td>87.144500</td>\n    </tr>\n    <tr>\n      <th>48275</th>\n      <td>0.074169</td>\n      <td>0.371897</td>\n      <td>1.267540</td>\n      <td>2.867370</td>\n      <td>5.506410</td>\n    </tr>\n    <tr>\n      <th>48276</th>\n      <td>4.266670</td>\n      <td>17.132300</td>\n      <td>59.422400</td>\n      <td>185.290000</td>\n      <td>876.338000</td>\n    </tr>\n  </tbody>\n</table>\n<p>48277 rows × 5 columns</p>\n</div>"
     },
     "execution_count": 6,
     "metadata": {},
     "output_type": "execute_result"
    }
   ],
   "source": [
    "predicted_df"
   ],
   "metadata": {
    "collapsed": false,
    "pycharm": {
     "name": "#%%\n"
    }
   }
  },
  {
   "cell_type": "code",
   "execution_count": 7,
   "outputs": [
    {
     "data": {
      "text/plain": "          A04M01N      A10M01N      A20M05N      A40M05N      A80M10N\n0        0.231706     1.220660     5.094590    15.914800    47.112000\n1       82.146800   330.598000   897.139000  1714.040000  2988.380000\n2        0.669927     2.745640     9.257890    27.853800    91.442600\n3        0.734855     2.440980     5.959330     9.432800    10.061300\n4        7.962690     0.380249     0.388483     0.391602     0.392851\n...           ...          ...          ...          ...          ...\n48272    0.359710     0.340681     0.508879     1.096330     2.619400\n48273   11.697000     9.794400     7.837290     3.399940     0.918690\n48274  872.782000  3100.530000  6411.970000  6641.620000  2054.950000\n48275    0.443499     0.499516     1.199490     2.502660     4.039410\n48276   37.613000    38.269200   104.238000   325.997000  1050.250000\n\n[48277 rows x 5 columns]",
      "text/html": "<div>\n<style scoped>\n    .dataframe tbody tr th:only-of-type {\n        vertical-align: middle;\n    }\n\n    .dataframe tbody tr th {\n        vertical-align: top;\n    }\n\n    .dataframe thead th {\n        text-align: right;\n    }\n</style>\n<table border=\"1\" class=\"dataframe\">\n  <thead>\n    <tr style=\"text-align: right;\">\n      <th></th>\n      <th>A04M01N</th>\n      <th>A10M01N</th>\n      <th>A20M05N</th>\n      <th>A40M05N</th>\n      <th>A80M10N</th>\n    </tr>\n  </thead>\n  <tbody>\n    <tr>\n      <th>0</th>\n      <td>0.231706</td>\n      <td>1.220660</td>\n      <td>5.094590</td>\n      <td>15.914800</td>\n      <td>47.112000</td>\n    </tr>\n    <tr>\n      <th>1</th>\n      <td>82.146800</td>\n      <td>330.598000</td>\n      <td>897.139000</td>\n      <td>1714.040000</td>\n      <td>2988.380000</td>\n    </tr>\n    <tr>\n      <th>2</th>\n      <td>0.669927</td>\n      <td>2.745640</td>\n      <td>9.257890</td>\n      <td>27.853800</td>\n      <td>91.442600</td>\n    </tr>\n    <tr>\n      <th>3</th>\n      <td>0.734855</td>\n      <td>2.440980</td>\n      <td>5.959330</td>\n      <td>9.432800</td>\n      <td>10.061300</td>\n    </tr>\n    <tr>\n      <th>4</th>\n      <td>7.962690</td>\n      <td>0.380249</td>\n      <td>0.388483</td>\n      <td>0.391602</td>\n      <td>0.392851</td>\n    </tr>\n    <tr>\n      <th>...</th>\n      <td>...</td>\n      <td>...</td>\n      <td>...</td>\n      <td>...</td>\n      <td>...</td>\n    </tr>\n    <tr>\n      <th>48272</th>\n      <td>0.359710</td>\n      <td>0.340681</td>\n      <td>0.508879</td>\n      <td>1.096330</td>\n      <td>2.619400</td>\n    </tr>\n    <tr>\n      <th>48273</th>\n      <td>11.697000</td>\n      <td>9.794400</td>\n      <td>7.837290</td>\n      <td>3.399940</td>\n      <td>0.918690</td>\n    </tr>\n    <tr>\n      <th>48274</th>\n      <td>872.782000</td>\n      <td>3100.530000</td>\n      <td>6411.970000</td>\n      <td>6641.620000</td>\n      <td>2054.950000</td>\n    </tr>\n    <tr>\n      <th>48275</th>\n      <td>0.443499</td>\n      <td>0.499516</td>\n      <td>1.199490</td>\n      <td>2.502660</td>\n      <td>4.039410</td>\n    </tr>\n    <tr>\n      <th>48276</th>\n      <td>37.613000</td>\n      <td>38.269200</td>\n      <td>104.238000</td>\n      <td>325.997000</td>\n      <td>1050.250000</td>\n    </tr>\n  </tbody>\n</table>\n<p>48277 rows × 5 columns</p>\n</div>"
     },
     "execution_count": 7,
     "metadata": {},
     "output_type": "execute_result"
    }
   ],
   "source": [
    "actuals_df = actuals_df[outputs]\n",
    "actuals_df"
   ],
   "metadata": {
    "collapsed": false,
    "pycharm": {
     "name": "#%%\n"
    }
   }
  },
  {
   "cell_type": "markdown",
   "source": [
    "Plot relative errors"
   ],
   "metadata": {
    "collapsed": false,
    "pycharm": {
     "name": "#%% md\n"
    }
   }
  },
  {
   "cell_type": "code",
   "execution_count": 8,
   "outputs": [],
   "source": [
    "threshold = 0.05\n",
    "def save_and_show_fig(fig, fig_name: str, show=True):\n",
    "    if fig is not None:\n",
    "        if show:\n",
    "            fig.show('browser')\n",
    "        fig.write_image(fig_name)\n",
    "\n",
    "for output in outputs:\n",
    "    actuals = torch.tensor(actuals_df[output].to_numpy())\n",
    "    predicted = torch.tensor(predicted_df[output].to_numpy())\n",
    "    # plot hist and default relative error distribution\n",
    "    hist = plot_relative_error_hist(actuals, predicted, threshold, \"relative error hist \" + output)\n",
    "    dist = plot_relative_error_shader(actuals, predicted, threshold, \"relative error \" + output, width=10000, height=500)\n",
    "\n",
    "    save_and_show_fig(hist, \"relative_error_hist_\" + output + \".pdf\")\n",
    "    save_and_show_fig(dist, \"relative_error_\" + output + \".pdf\", False)"
   ],
   "metadata": {
    "collapsed": false,
    "pycharm": {
     "name": "#%%\n"
    }
   }
  }
 ],
 "metadata": {
  "kernelspec": {
   "display_name": "Python 3",
   "language": "python",
   "name": "python3"
  },
  "language_info": {
   "codemirror_mode": {
    "name": "ipython",
    "version": 2
   },
   "file_extension": ".py",
   "mimetype": "text/x-python",
   "name": "python",
   "nbconvert_exporter": "python",
   "pygments_lexer": "ipython2",
   "version": "2.7.6"
  }
 },
 "nbformat": 4,
 "nbformat_minor": 0
}