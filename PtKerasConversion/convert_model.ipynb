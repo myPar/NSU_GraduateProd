{
 "cells": [
  {
   "cell_type": "code",
   "execution_count": 69,
   "metadata": {
    "collapsed": true,
    "pycharm": {
     "name": "#%%\n"
    }
   },
   "outputs": [],
   "source": [
    "from tools.torch_lib import *"
   ]
  },
  {
   "cell_type": "code",
   "execution_count": 70,
   "outputs": [],
   "source": [
    "### uncomment if libs are not installed:\n",
    "# %pip install numpy\n",
    "# %pip install pandas\n",
    "# pytorch without gpu support:\n",
    "# %pip install torch torchvision torchaudio\n",
    "## tf without gpu support\n",
    "# pip install tensorflow\n",
    "# pip install keras\n",
    "# pip install onnx\n",
    "# pip install onnx2keras"
   ],
   "metadata": {
    "collapsed": false,
    "pycharm": {
     "name": "#%%\n"
    }
   }
  },
  {
   "cell_type": "code",
   "execution_count": 71,
   "outputs": [
    {
     "name": "stdout",
     "output_type": "stream",
     "text": [
      "enter model file name:\n"
     ]
    },
    {
     "data": {
      "text/plain": "RecursiveScriptModule(\n  original_name=LinearModel\n  (linears): RecursiveScriptModule(\n    original_name=ModuleList\n    (0): RecursiveScriptModule(original_name=Linear)\n    (1): RecursiveScriptModule(original_name=Linear)\n    (2): RecursiveScriptModule(original_name=Linear)\n    (3): RecursiveScriptModule(original_name=Linear)\n    (4): RecursiveScriptModule(original_name=Linear)\n    (5): RecursiveScriptModule(original_name=Linear)\n  )\n  (activations): RecursiveScriptModule(\n    original_name=ModuleList\n    (0): RecursiveScriptModule(original_name=LeakyReLU)\n    (1): RecursiveScriptModule(original_name=LeakyReLU)\n    (2): RecursiveScriptModule(original_name=LeakyReLU)\n    (3): RecursiveScriptModule(original_name=LeakyReLU)\n    (4): RecursiveScriptModule(original_name=LeakyReLU)\n    (5): RecursiveScriptModule(original_name=LeakyReLU)\n  )\n)"
     },
     "execution_count": 71,
     "metadata": {},
     "output_type": "execute_result"
    }
   ],
   "source": [
    "# use only scripted (.pt) models!\n",
    "models_dir = \"models/\"\n",
    "print(\"enter model file name:\")\n",
    "model_name = input()\n",
    "model_path = models_dir + model_name\n",
    "scripted_model = torch.jit.load(model_path)\n",
    "scripted_model.eval()"
   ],
   "metadata": {
    "collapsed": false,
    "pycharm": {
     "name": "#%%\n"
    }
   }
  },
  {
   "cell_type": "markdown",
   "source": [
    "### convert to onnx"
   ],
   "metadata": {
    "collapsed": false,
    "pycharm": {
     "name": "#%% md\n"
    }
   }
  },
  {
   "cell_type": "code",
   "execution_count": 72,
   "outputs": [
    {
     "name": "stdout",
     "output_type": "stream",
     "text": [
      "RecursiveScriptModule(\n",
      "  original_name=LinearModel\n",
      "  (linears): RecursiveScriptModule(\n",
      "    original_name=ModuleList\n",
      "    (0): RecursiveScriptModule(original_name=Linear)\n",
      "    (1): RecursiveScriptModule(original_name=Linear)\n",
      "    (2): RecursiveScriptModule(original_name=Linear)\n",
      "    (3): RecursiveScriptModule(original_name=Linear)\n",
      "    (4): RecursiveScriptModule(original_name=Linear)\n",
      "    (5): RecursiveScriptModule(original_name=Linear)\n",
      "  )\n",
      "  (activations): RecursiveScriptModule(\n",
      "    original_name=ModuleList\n",
      "    (0): RecursiveScriptModule(original_name=LeakyReLU)\n",
      "    (1): RecursiveScriptModule(original_name=LeakyReLU)\n",
      "    (2): RecursiveScriptModule(original_name=LeakyReLU)\n",
      "    (3): RecursiveScriptModule(original_name=LeakyReLU)\n",
      "    (4): RecursiveScriptModule(original_name=LeakyReLU)\n",
      "    (5): RecursiveScriptModule(original_name=LeakyReLU)\n",
      "  )\n",
      ")\n"
     ]
    }
   ],
   "source": [
    "print(scripted_model)"
   ],
   "metadata": {
    "collapsed": false,
    "pycharm": {
     "name": "#%%\n"
    }
   }
  },
  {
   "cell_type": "code",
   "execution_count": 73,
   "outputs": [
    {
     "name": "stdout",
     "output_type": "stream",
     "text": [
      "linears.0.weight shape=[50, 5]\n",
      "linears.0.bias shape=[50]\n",
      "linears.1.weight shape=[120, 50]\n",
      "linears.1.bias shape=[120]\n",
      "linears.2.weight shape=[1200, 120]\n",
      "linears.2.bias shape=[1200]\n",
      "linears.3.weight shape=[120, 1200]\n",
      "linears.3.bias shape=[120]\n",
      "linears.4.weight shape=[10, 120]\n",
      "linears.4.bias shape=[10]\n",
      "linears.5.weight shape=[1, 10]\n",
      "linears.5.bias shape=[1]\n"
     ]
    }
   ],
   "source": [
    "in_features = -1\n",
    "\n",
    "for name, weights in scripted_model.named_parameters():\n",
    "    shape = list(weights.size())\n",
    "\n",
    "    if in_features == -1:\n",
    "        in_features = shape[1]\n",
    "    print(name, \"shape=\" + str(shape))"
   ],
   "metadata": {
    "collapsed": false,
    "pycharm": {
     "name": "#%%\n"
    }
   }
  },
  {
   "cell_type": "code",
   "execution_count": 74,
   "outputs": [
    {
     "data": {
      "text/plain": "tensor([[1.3731]], grad_fn=<LeakyReluBackward0>)"
     },
     "execution_count": 74,
     "metadata": {},
     "output_type": "execute_result"
    }
   ],
   "source": [
    "# check inference\n",
    "input_tensor = torch.randn(1, in_features)\n",
    "scripted_model(input_tensor)"
   ],
   "metadata": {
    "collapsed": false,
    "pycharm": {
     "name": "#%%\n"
    }
   }
  },
  {
   "cell_type": "code",
   "execution_count": 75,
   "outputs": [
    {
     "data": {
      "text/plain": "tensor([[ 2.1839,  0.0583,  0.8178,  1.4903, -1.6197]])"
     },
     "execution_count": 75,
     "metadata": {},
     "output_type": "execute_result"
    }
   ],
   "source": [
    "input_tensor"
   ],
   "metadata": {
    "collapsed": false,
    "pycharm": {
     "name": "#%%\n"
    }
   }
  },
  {
   "cell_type": "code",
   "execution_count": 76,
   "outputs": [
    {
     "name": "stderr",
     "output_type": "stream",
     "text": [
      "C:\\GitHub\\NSU_Graduate\\PtKerasConversion\\venv\\Lib\\site-packages\\torch\\onnx\\utils.py:847: UserWarning: no signature found for <torch.ScriptMethod object at 0x000001BBEA8D6270>, skipping _decide_input_format\n",
      "  warnings.warn(f\"{e}, skipping _decide_input_format\")\n"
     ]
    }
   ],
   "source": [
    "torch.onnx.export(scripted_model, input_tensor, models_dir + \"model.onnx\", export_params=True, opset_version=11)\n",
    "#onnx_binary.save(models_dir + \"onnx_model.onnx\")"
   ],
   "metadata": {
    "collapsed": false,
    "pycharm": {
     "name": "#%%\n"
    }
   }
  },
  {
   "cell_type": "markdown",
   "source": [
    "### Convert onnx model to keras"
   ],
   "metadata": {
    "collapsed": false,
    "pycharm": {
     "name": "#%% md\n"
    }
   }
  },
  {
   "cell_type": "code",
   "execution_count": 77,
   "outputs": [
    {
     "name": "stderr",
     "output_type": "stream",
     "text": [
      "INFO:onnx2keras:Converter is called.\n",
      "DEBUG:onnx2keras:List input shapes:\n",
      "DEBUG:onnx2keras:None\n",
      "DEBUG:onnx2keras:List inputs:\n",
      "DEBUG:onnx2keras:Input 0 -> x.1.\n",
      "DEBUG:onnx2keras:List outputs:\n",
      "DEBUG:onnx2keras:Output 0 -> result1.19.\n",
      "DEBUG:onnx2keras:Gathering weights to dictionary.\n",
      "DEBUG:onnx2keras:Found weight linears.0.weight with shape (50, 5).\n",
      "DEBUG:onnx2keras:Found weight linears.0.bias with shape (50,).\n",
      "DEBUG:onnx2keras:Found weight linears.1.weight with shape (120, 50).\n",
      "DEBUG:onnx2keras:Found weight linears.1.bias with shape (120,).\n",
      "DEBUG:onnx2keras:Found weight linears.2.weight with shape (1200, 120).\n",
      "DEBUG:onnx2keras:Found weight linears.2.bias with shape (1200,).\n",
      "DEBUG:onnx2keras:Found weight linears.3.weight with shape (120, 1200).\n",
      "DEBUG:onnx2keras:Found weight linears.3.bias with shape (120,).\n",
      "DEBUG:onnx2keras:Found weight linears.4.weight with shape (10, 120).\n",
      "DEBUG:onnx2keras:Found weight linears.4.bias with shape (10,).\n",
      "DEBUG:onnx2keras:Found weight linears.5.weight with shape (1, 10).\n",
      "DEBUG:onnx2keras:Found weight linears.5.bias with shape (1,).\n",
      "DEBUG:onnx2keras:Found input x.1 with shape [5]\n",
      "DEBUG:onnx2keras:######\n",
      "DEBUG:onnx2keras:...\n",
      "DEBUG:onnx2keras:Converting ONNX operation\n",
      "DEBUG:onnx2keras:type: Gemm\n",
      "DEBUG:onnx2keras:node_name: /linears.0/Gemm_output_0\n",
      "DEBUG:onnx2keras:node_params: {'alpha': 1.0, 'beta': 1.0, 'transB': 1, 'change_ordering': False, 'name_policy': 'renumerate'}\n",
      "DEBUG:onnx2keras:...\n",
      "DEBUG:onnx2keras:Check if all inputs are available:\n",
      "DEBUG:onnx2keras:Check input 0 (name x.1).\n",
      "DEBUG:onnx2keras:Check input 1 (name linears.0.weight).\n",
      "DEBUG:onnx2keras:The input not found in layers / model inputs.\n",
      "DEBUG:onnx2keras:Found in weights, add as a numpy constant.\n",
      "DEBUG:onnx2keras:Check input 2 (name linears.0.bias).\n",
      "DEBUG:onnx2keras:The input not found in layers / model inputs.\n",
      "DEBUG:onnx2keras:Found in weights, add as a numpy constant.\n",
      "DEBUG:onnx2keras:... found all, continue\n",
      "DEBUG:onnx2keras:gemm:Convert GEMM with bias.\n",
      "DEBUG:onnx2keras:gemm:Transposing W matrix.\n",
      "DEBUG:onnx2keras:gemm:Input units 5, output units 50.\n",
      "DEBUG:onnx2keras:######\n",
      "DEBUG:onnx2keras:...\n",
      "DEBUG:onnx2keras:Converting ONNX operation\n",
      "DEBUG:onnx2keras:type: LeakyRelu\n",
      "DEBUG:onnx2keras:node_name: /0/LeakyRelu_output_0\n",
      "DEBUG:onnx2keras:node_params: {'alpha': 0.009999999776482582, 'change_ordering': False, 'name_policy': 'renumerate'}\n",
      "DEBUG:onnx2keras:...\n",
      "DEBUG:onnx2keras:Check if all inputs are available:\n",
      "DEBUG:onnx2keras:Check input 0 (name /linears.0/Gemm_output_0).\n",
      "DEBUG:onnx2keras:... found all, continue\n",
      "DEBUG:onnx2keras:######\n",
      "DEBUG:onnx2keras:...\n",
      "DEBUG:onnx2keras:Converting ONNX operation\n",
      "DEBUG:onnx2keras:type: Gemm\n",
      "DEBUG:onnx2keras:node_name: /linears.1/Gemm_output_0\n",
      "DEBUG:onnx2keras:node_params: {'alpha': 1.0, 'beta': 1.0, 'transB': 1, 'change_ordering': False, 'name_policy': 'renumerate'}\n",
      "DEBUG:onnx2keras:...\n",
      "DEBUG:onnx2keras:Check if all inputs are available:\n",
      "DEBUG:onnx2keras:Check input 0 (name /0/LeakyRelu_output_0).\n",
      "DEBUG:onnx2keras:Check input 1 (name linears.1.weight).\n",
      "DEBUG:onnx2keras:The input not found in layers / model inputs.\n",
      "DEBUG:onnx2keras:Found in weights, add as a numpy constant.\n",
      "DEBUG:onnx2keras:Check input 2 (name linears.1.bias).\n",
      "DEBUG:onnx2keras:The input not found in layers / model inputs.\n",
      "DEBUG:onnx2keras:Found in weights, add as a numpy constant.\n",
      "DEBUG:onnx2keras:... found all, continue\n",
      "DEBUG:onnx2keras:gemm:Convert GEMM with bias.\n",
      "DEBUG:onnx2keras:gemm:Transposing W matrix.\n",
      "DEBUG:onnx2keras:gemm:Input units 50, output units 120.\n",
      "DEBUG:onnx2keras:######\n",
      "DEBUG:onnx2keras:...\n",
      "DEBUG:onnx2keras:Converting ONNX operation\n",
      "DEBUG:onnx2keras:type: LeakyRelu\n",
      "DEBUG:onnx2keras:node_name: /1/LeakyRelu_output_0\n",
      "DEBUG:onnx2keras:node_params: {'alpha': 0.009999999776482582, 'change_ordering': False, 'name_policy': 'renumerate'}\n",
      "DEBUG:onnx2keras:...\n",
      "DEBUG:onnx2keras:Check if all inputs are available:\n",
      "DEBUG:onnx2keras:Check input 0 (name /linears.1/Gemm_output_0).\n",
      "DEBUG:onnx2keras:... found all, continue\n",
      "DEBUG:onnx2keras:######\n",
      "DEBUG:onnx2keras:...\n",
      "DEBUG:onnx2keras:Converting ONNX operation\n",
      "DEBUG:onnx2keras:type: Gemm\n",
      "DEBUG:onnx2keras:node_name: /linears.2/Gemm_output_0\n",
      "DEBUG:onnx2keras:node_params: {'alpha': 1.0, 'beta': 1.0, 'transB': 1, 'change_ordering': False, 'name_policy': 'renumerate'}\n",
      "DEBUG:onnx2keras:...\n",
      "DEBUG:onnx2keras:Check if all inputs are available:\n",
      "DEBUG:onnx2keras:Check input 0 (name /1/LeakyRelu_output_0).\n",
      "DEBUG:onnx2keras:Check input 1 (name linears.2.weight).\n",
      "DEBUG:onnx2keras:The input not found in layers / model inputs.\n",
      "DEBUG:onnx2keras:Found in weights, add as a numpy constant.\n",
      "DEBUG:onnx2keras:Check input 2 (name linears.2.bias).\n",
      "DEBUG:onnx2keras:The input not found in layers / model inputs.\n",
      "DEBUG:onnx2keras:Found in weights, add as a numpy constant.\n",
      "DEBUG:onnx2keras:... found all, continue\n",
      "DEBUG:onnx2keras:gemm:Convert GEMM with bias.\n",
      "DEBUG:onnx2keras:gemm:Transposing W matrix.\n",
      "DEBUG:onnx2keras:gemm:Input units 120, output units 1200.\n",
      "DEBUG:onnx2keras:######\n",
      "DEBUG:onnx2keras:...\n",
      "DEBUG:onnx2keras:Converting ONNX operation\n",
      "DEBUG:onnx2keras:type: LeakyRelu\n",
      "DEBUG:onnx2keras:node_name: /2/LeakyRelu_output_0\n",
      "DEBUG:onnx2keras:node_params: {'alpha': 0.009999999776482582, 'change_ordering': False, 'name_policy': 'renumerate'}\n",
      "DEBUG:onnx2keras:...\n",
      "DEBUG:onnx2keras:Check if all inputs are available:\n",
      "DEBUG:onnx2keras:Check input 0 (name /linears.2/Gemm_output_0).\n",
      "DEBUG:onnx2keras:... found all, continue\n",
      "DEBUG:onnx2keras:######\n",
      "DEBUG:onnx2keras:...\n",
      "DEBUG:onnx2keras:Converting ONNX operation\n",
      "DEBUG:onnx2keras:type: Gemm\n",
      "DEBUG:onnx2keras:node_name: /linears.3/Gemm_output_0\n",
      "DEBUG:onnx2keras:node_params: {'alpha': 1.0, 'beta': 1.0, 'transB': 1, 'change_ordering': False, 'name_policy': 'renumerate'}\n",
      "DEBUG:onnx2keras:...\n",
      "DEBUG:onnx2keras:Check if all inputs are available:\n",
      "DEBUG:onnx2keras:Check input 0 (name /2/LeakyRelu_output_0).\n",
      "DEBUG:onnx2keras:Check input 1 (name linears.3.weight).\n",
      "DEBUG:onnx2keras:The input not found in layers / model inputs.\n",
      "DEBUG:onnx2keras:Found in weights, add as a numpy constant.\n",
      "DEBUG:onnx2keras:Check input 2 (name linears.3.bias).\n",
      "DEBUG:onnx2keras:The input not found in layers / model inputs.\n",
      "DEBUG:onnx2keras:Found in weights, add as a numpy constant.\n",
      "DEBUG:onnx2keras:... found all, continue\n",
      "DEBUG:onnx2keras:gemm:Convert GEMM with bias.\n",
      "DEBUG:onnx2keras:gemm:Transposing W matrix.\n",
      "DEBUG:onnx2keras:gemm:Input units 1200, output units 120.\n",
      "DEBUG:onnx2keras:######\n",
      "DEBUG:onnx2keras:...\n",
      "DEBUG:onnx2keras:Converting ONNX operation\n",
      "DEBUG:onnx2keras:type: LeakyRelu\n",
      "DEBUG:onnx2keras:node_name: /3/LeakyRelu_output_0\n",
      "DEBUG:onnx2keras:node_params: {'alpha': 0.009999999776482582, 'change_ordering': False, 'name_policy': 'renumerate'}\n",
      "DEBUG:onnx2keras:...\n",
      "DEBUG:onnx2keras:Check if all inputs are available:\n",
      "DEBUG:onnx2keras:Check input 0 (name /linears.3/Gemm_output_0).\n",
      "DEBUG:onnx2keras:... found all, continue\n",
      "DEBUG:onnx2keras:######\n",
      "DEBUG:onnx2keras:...\n",
      "DEBUG:onnx2keras:Converting ONNX operation\n",
      "DEBUG:onnx2keras:type: Gemm\n",
      "DEBUG:onnx2keras:node_name: /linears.4/Gemm_output_0\n",
      "DEBUG:onnx2keras:node_params: {'alpha': 1.0, 'beta': 1.0, 'transB': 1, 'change_ordering': False, 'name_policy': 'renumerate'}\n",
      "DEBUG:onnx2keras:...\n",
      "DEBUG:onnx2keras:Check if all inputs are available:\n",
      "DEBUG:onnx2keras:Check input 0 (name /3/LeakyRelu_output_0).\n",
      "DEBUG:onnx2keras:Check input 1 (name linears.4.weight).\n",
      "DEBUG:onnx2keras:The input not found in layers / model inputs.\n",
      "DEBUG:onnx2keras:Found in weights, add as a numpy constant.\n",
      "DEBUG:onnx2keras:Check input 2 (name linears.4.bias).\n",
      "DEBUG:onnx2keras:The input not found in layers / model inputs.\n",
      "DEBUG:onnx2keras:Found in weights, add as a numpy constant.\n",
      "DEBUG:onnx2keras:... found all, continue\n",
      "DEBUG:onnx2keras:gemm:Convert GEMM with bias.\n",
      "DEBUG:onnx2keras:gemm:Transposing W matrix.\n",
      "DEBUG:onnx2keras:gemm:Input units 120, output units 10.\n",
      "DEBUG:onnx2keras:######\n",
      "DEBUG:onnx2keras:...\n",
      "DEBUG:onnx2keras:Converting ONNX operation\n",
      "DEBUG:onnx2keras:type: LeakyRelu\n",
      "DEBUG:onnx2keras:node_name: /4/LeakyRelu_output_0\n",
      "DEBUG:onnx2keras:node_params: {'alpha': 0.009999999776482582, 'change_ordering': False, 'name_policy': 'renumerate'}\n",
      "DEBUG:onnx2keras:...\n",
      "DEBUG:onnx2keras:Check if all inputs are available:\n",
      "DEBUG:onnx2keras:Check input 0 (name /linears.4/Gemm_output_0).\n",
      "DEBUG:onnx2keras:... found all, continue\n",
      "DEBUG:onnx2keras:######\n",
      "DEBUG:onnx2keras:...\n",
      "DEBUG:onnx2keras:Converting ONNX operation\n",
      "DEBUG:onnx2keras:type: Gemm\n",
      "DEBUG:onnx2keras:node_name: /linears.5/Gemm_output_0\n",
      "DEBUG:onnx2keras:node_params: {'alpha': 1.0, 'beta': 1.0, 'transB': 1, 'change_ordering': False, 'name_policy': 'renumerate'}\n",
      "DEBUG:onnx2keras:...\n",
      "DEBUG:onnx2keras:Check if all inputs are available:\n",
      "DEBUG:onnx2keras:Check input 0 (name /4/LeakyRelu_output_0).\n",
      "DEBUG:onnx2keras:Check input 1 (name linears.5.weight).\n",
      "DEBUG:onnx2keras:The input not found in layers / model inputs.\n",
      "DEBUG:onnx2keras:Found in weights, add as a numpy constant.\n",
      "DEBUG:onnx2keras:Check input 2 (name linears.5.bias).\n",
      "DEBUG:onnx2keras:The input not found in layers / model inputs.\n",
      "DEBUG:onnx2keras:Found in weights, add as a numpy constant.\n",
      "DEBUG:onnx2keras:... found all, continue\n",
      "DEBUG:onnx2keras:gemm:Convert GEMM with bias.\n",
      "DEBUG:onnx2keras:gemm:Transposing W matrix.\n",
      "DEBUG:onnx2keras:gemm:Input units 10, output units 1.\n",
      "DEBUG:onnx2keras:######\n",
      "DEBUG:onnx2keras:...\n",
      "DEBUG:onnx2keras:Converting ONNX operation\n",
      "DEBUG:onnx2keras:type: LeakyRelu\n",
      "DEBUG:onnx2keras:node_name: result1.19\n",
      "DEBUG:onnx2keras:node_params: {'alpha': 0.009999999776482582, 'change_ordering': False, 'name_policy': 'renumerate'}\n",
      "DEBUG:onnx2keras:...\n",
      "DEBUG:onnx2keras:Check if all inputs are available:\n",
      "DEBUG:onnx2keras:Check input 0 (name /linears.5/Gemm_output_0).\n",
      "DEBUG:onnx2keras:... found all, continue\n"
     ]
    }
   ],
   "source": [
    "import onnx\n",
    "from onnx2keras import onnx_to_keras\n",
    "\n",
    "onnx_model = onnx.load(models_dir + \"model.onnx\")\n",
    "input_all = [node.name for node in onnx_model.graph.input]\n",
    "keras_model = onnx_to_keras(onnx_model, input_all, name_policy='renumerate')"
   ],
   "metadata": {
    "collapsed": false,
    "pycharm": {
     "name": "#%%\n"
    }
   }
  },
  {
   "cell_type": "code",
   "execution_count": 78,
   "outputs": [
    {
     "name": "stdout",
     "output_type": "stream",
     "text": [
      "Model: \"model_4\"\n",
      "_________________________________________________________________\n",
      " Layer (type)                Output Shape              Param #   \n",
      "=================================================================\n",
      " x.1 (InputLayer)            [(None, 5)]               0         \n",
      "                                                                 \n",
      " LAYER_0 (Dense)             (None, 50)                300       \n",
      "                                                                 \n",
      " LAYER_1 (LeakyReLU)         (None, 50)                0         \n",
      "                                                                 \n",
      " LAYER_2 (Dense)             (None, 120)               6120      \n",
      "                                                                 \n",
      " LAYER_3 (LeakyReLU)         (None, 120)               0         \n",
      "                                                                 \n",
      " LAYER_4 (Dense)             (None, 1200)              145200    \n",
      "                                                                 \n",
      " LAYER_5 (LeakyReLU)         (None, 1200)              0         \n",
      "                                                                 \n",
      " LAYER_6 (Dense)             (None, 120)               144120    \n",
      "                                                                 \n",
      " LAYER_7 (LeakyReLU)         (None, 120)               0         \n",
      "                                                                 \n",
      " LAYER_8 (Dense)             (None, 10)                1210      \n",
      "                                                                 \n",
      " LAYER_9 (LeakyReLU)         (None, 10)                0         \n",
      "                                                                 \n",
      " LAYER_10 (Dense)            (None, 1)                 11        \n",
      "                                                                 \n",
      " LAYER_11 (LeakyReLU)        (None, 1)                 0         \n",
      "                                                                 \n",
      "=================================================================\n",
      "Total params: 296961 (1.13 MB)\n",
      "Trainable params: 296961 (1.13 MB)\n",
      "Non-trainable params: 0 (0.00 Byte)\n",
      "_________________________________________________________________\n"
     ]
    }
   ],
   "source": [
    "keras_model.summary()"
   ],
   "metadata": {
    "collapsed": false,
    "pycharm": {
     "name": "#%%\n"
    }
   }
  },
  {
   "cell_type": "code",
   "execution_count": 79,
   "outputs": [
    {
     "name": "stdout",
     "output_type": "stream",
     "text": [
      "1/1 [==============================] - 0s 73ms/step\n"
     ]
    },
    {
     "data": {
      "text/plain": "array([[1.3731353]], dtype=float32)"
     },
     "execution_count": 79,
     "metadata": {},
     "output_type": "execute_result"
    }
   ],
   "source": [
    "keras_model.predict(input_tensor.numpy())"
   ],
   "metadata": {
    "collapsed": false,
    "pycharm": {
     "name": "#%%\n"
    }
   }
  },
  {
   "cell_type": "code",
   "execution_count": 80,
   "outputs": [
    {
     "name": "stdout",
     "output_type": "stream",
     "text": [
      "WARNING:tensorflow:Compiled the loaded model, but the compiled metrics have yet to be built. `model.compile_metrics` will be empty until you train or evaluate the model.\n"
     ]
    },
    {
     "name": "stderr",
     "output_type": "stream",
     "text": [
      "C:\\GitHub\\NSU_Graduate\\PtKerasConversion\\venv\\Lib\\site-packages\\keras\\src\\engine\\training.py:3103: UserWarning: You are saving your model as an HDF5 file via `model.save()`. This file format is considered legacy. We recommend using instead the native Keras format, e.g. `model.save('my_model.keras')`.\n",
      "  saving_api.save_model(\n",
      "WARNING:tensorflow:Compiled the loaded model, but the compiled metrics have yet to be built. `model.compile_metrics` will be empty until you train or evaluate the model.\n"
     ]
    }
   ],
   "source": [
    "# save keras model\n",
    "keras_model.save(models_dir + \"keras_model.h5\")"
   ],
   "metadata": {
    "collapsed": false,
    "pycharm": {
     "name": "#%%\n"
    }
   }
  },
  {
   "cell_type": "code",
   "execution_count": 81,
   "outputs": [
    {
     "name": "stdout",
     "output_type": "stream",
     "text": [
      "WARNING:tensorflow:No training configuration found in the save file, so the model was *not* compiled. Compile it manually.\n"
     ]
    },
    {
     "name": "stderr",
     "output_type": "stream",
     "text": [
      "WARNING:tensorflow:No training configuration found in the save file, so the model was *not* compiled. Compile it manually.\n"
     ]
    },
    {
     "name": "stdout",
     "output_type": "stream",
     "text": [
      "1/1 [==============================] - 0s 83ms/step\n"
     ]
    },
    {
     "data": {
      "text/plain": "array([[1.3731353]], dtype=float32)"
     },
     "execution_count": 81,
     "metadata": {},
     "output_type": "execute_result"
    }
   ],
   "source": [
    "from keras.models import load_model\n",
    "# check loaded keras model\n",
    "keras_model = load_model(models_dir + \"keras_model.h5\")\n",
    "keras_model.predict(input_tensor.numpy())"
   ],
   "metadata": {
    "collapsed": false,
    "pycharm": {
     "name": "#%%\n"
    }
   }
  },
  {
   "cell_type": "markdown",
   "source": [
    "### convert model to keras2cpp lib format and save it\n",
    "keras2cpp lib doesn't support Input() layer so convert model to contain only\n",
    "Dense & Activation layers"
   ],
   "metadata": {
    "collapsed": false,
    "pycharm": {
     "name": "#%% md\n"
    }
   }
  },
  {
   "cell_type": "code",
   "execution_count": 82,
   "outputs": [
    {
     "name": "stdout",
     "output_type": "stream",
     "text": [
      "Model: \"sequential_4\"\n",
      "_________________________________________________________________\n",
      " Layer (type)                Output Shape              Param #   \n",
      "=================================================================\n",
      " dense_19 (Dense)            (None, 50)                300       \n",
      "                                                                 \n",
      " LAYER_1 (LeakyReLU)         (None, 50)                0         \n",
      "                                                                 \n",
      " dense_20 (Dense)            (None, 120)               6120      \n",
      "                                                                 \n",
      " LAYER_3 (LeakyReLU)         (None, 120)               0         \n",
      "                                                                 \n",
      " dense_21 (Dense)            (None, 1200)              145200    \n",
      "                                                                 \n",
      " LAYER_5 (LeakyReLU)         (None, 1200)              0         \n",
      "                                                                 \n",
      " dense_22 (Dense)            (None, 120)               144120    \n",
      "                                                                 \n",
      " LAYER_7 (LeakyReLU)         (None, 120)               0         \n",
      "                                                                 \n",
      " dense_23 (Dense)            (None, 10)                1210      \n",
      "                                                                 \n",
      " LAYER_9 (LeakyReLU)         (None, 10)                0         \n",
      "                                                                 \n",
      " dense_24 (Dense)            (None, 1)                 11        \n",
      "                                                                 \n",
      " LAYER_11 (LeakyReLU)        (None, 1)                 0         \n",
      "                                                                 \n",
      "=================================================================\n",
      "Total params: 296961 (1.13 MB)\n",
      "Trainable params: 296961 (1.13 MB)\n",
      "Non-trainable params: 0 (0.00 Byte)\n",
      "_________________________________________________________________\n"
     ]
    }
   ],
   "source": [
    "from keras.src.layers import LeakyReLU\n",
    "from keras import Sequential\n",
    "from keras.layers import Dense, Activation\n",
    "\n",
    "input_dim = in_features\n",
    "converted_model = Sequential()\n",
    "\n",
    "for layer in keras_model.layers[1:]:\n",
    "    if isinstance(layer, Dense):\n",
    "        insert_dense_layer = Dense(units=layer.units, input_shape=(input_dim,))\n",
    "        converted_model.add(insert_dense_layer)\n",
    "        converted_model.layers[-1].set_weights(layer.get_weights())\n",
    "        input_dim = (layer.units, )\n",
    "    else:\n",
    "        converted_model.add(layer)  # activations\n",
    "\n",
    "\n",
    "converted_model.summary()"
   ],
   "metadata": {
    "collapsed": false,
    "pycharm": {
     "name": "#%%\n"
    }
   }
  },
  {
   "cell_type": "code",
   "execution_count": 83,
   "outputs": [
    {
     "name": "stdout",
     "output_type": "stream",
     "text": [
      "1/1 [==============================] - 0s 70ms/step\n"
     ]
    },
    {
     "data": {
      "text/plain": "array([[1.3731353]], dtype=float32)"
     },
     "execution_count": 83,
     "metadata": {},
     "output_type": "execute_result"
    }
   ],
   "source": [
    "# check converted model inference\n",
    "converted_model.predict(input_tensor.numpy())"
   ],
   "metadata": {
    "collapsed": false,
    "pycharm": {
     "name": "#%%\n"
    }
   }
  },
  {
   "cell_type": "code",
   "execution_count": 84,
   "outputs": [],
   "source": [
    "from tools.keras2cpp import export_model\n",
    "export_model(converted_model, models_dir + model_name + '.model')"
   ],
   "metadata": {
    "collapsed": false,
    "pycharm": {
     "name": "#%%\n"
    }
   }
  }
 ],
 "metadata": {
  "kernelspec": {
   "display_name": "Python 3",
   "language": "python",
   "name": "python3"
  },
  "language_info": {
   "codemirror_mode": {
    "name": "ipython",
    "version": 2
   },
   "file_extension": ".py",
   "mimetype": "text/x-python",
   "name": "python",
   "nbconvert_exporter": "python",
   "pygments_lexer": "ipython2",
   "version": "2.7.6"
  }
 },
 "nbformat": 4,
 "nbformat_minor": 0
}