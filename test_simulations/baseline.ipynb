{
 "cells": [
  {
   "cell_type": "code",
   "execution_count": 1,
   "metadata": {
    "collapsed": true,
    "pycharm": {
     "name": "#%%\n"
    }
   },
   "outputs": [],
   "source": [
    "import os\n",
    "import numpy as np\n",
    "import pandas as pd\n",
    "import plotly as plt\n",
    "from io import StringIO\n",
    "import torch\n",
    "from Pytorch.Local.tools.torch_lib import plot_relative_error_hist"
   ]
  },
  {
   "cell_type": "code",
   "execution_count": 2,
   "outputs": [],
   "source": [
    "data_dir = \"data/\"\n",
    "plots_dir = \"plots/\"\n",
    "files = os.listdir(data_dir)"
   ],
   "metadata": {
    "collapsed": false,
    "pycharm": {
     "name": "#%%\n"
    }
   }
  },
  {
   "cell_type": "code",
   "execution_count": null,
   "outputs": [],
   "source": [
    "dataframes = dict()\n",
    "\n",
    "for file_name in files:\n",
    "    cur_df = dataframes[file_name] = pd.read_csv(data_dir + file_name)\n",
    "\n",
    "    print(file_name + \":\")\n",
    "    print(cur_df.head())\n",
    "    print()"
   ],
   "metadata": {
    "collapsed": false,
    "pycharm": {
     "name": "#%%\n",
     "is_executing": true
    }
   }
  },
  {
   "cell_type": "code",
   "execution_count": 4,
   "outputs": [],
   "source": [
    "# def get_by_prefix(prefix:str, directory:str):\n",
    "#     file_names = os.listdir(directory)\n",
    "#     result = []\n",
    "#\n",
    "#     for name in file_names:\n",
    "#         if name.startswith(prefix):\n",
    "#             result.append(name)\n",
    "#\n",
    "#     return result\n",
    "#\n",
    "#\n",
    "# with open(data_dir + \"1D_3L_(2).csv\", 'r') as f:\n",
    "#     first_line = True\n",
    "#     data = []\n",
    "#\n",
    "#     for line in f:\n",
    "#         tokens = line.replace(\"\\\"\", \"\").replace(\"\\n\", \"\").split(\",\")\n",
    "#\n",
    "#         if first_line:\n",
    "#             columns = tokens\n",
    "#             first_line = False\n",
    "#         else:\n",
    "#             data.append(tokens)\n",
    "#\n",
    "#     cur_df = dataframes['1D_3L_(2).csv'] = pd.DataFrame(columns=columns, data=data)\n",
    "#\n",
    "#     print(cur_df.head())\n"
   ],
   "metadata": {
    "collapsed": false,
    "pycharm": {
     "name": "#%%\n"
    }
   }
  },
  {
   "cell_type": "code",
   "execution_count": 5,
   "outputs": [],
   "source": [
    "# dataframes['1D_3L_(2).csv'].to_csv(data_dir + '1D_3L_(3).csv', index=False)"
   ],
   "metadata": {
    "collapsed": false,
    "pycharm": {
     "name": "#%%\n"
    }
   }
  },
  {
   "cell_type": "code",
   "execution_count": 76,
   "outputs": [],
   "source": [
    "origin_datasets_dir = \"D:/ML/data/NN-simulation1D/\"\n",
    "actual_names = os.listdir(\"D:/ML/data/NN-simulation1D/\")\n",
    "\n",
    "outputs_dict = dict()\n",
    "inputs_dict = dict()\n",
    "outputs_dict[\"1D_1L.csv\"] = np.array(['IL1', 'IL_6F1', 'IL_8I14'])\n",
    "outputs_dict[\"1D_2A.csv\"] = np.array(['A04M01N', 'A10M01N', 'A20M05N', 'A40M05N', 'A80M10N'])\n",
    "outputs_dict[\"1D_2L.csv\"] = np.array(['A04M01N', 'A10M01N', 'A20M05N', 'A40M05N', 'A80M10N'])\n",
    "outputs_dict[\"1D_2L_chart.csv\"] = np.array(['rok'])\n",
    "outputs_dict[\"1D_3L.csv\"] = np.array(['A04M01N', 'A10M01N', 'A20M05N', 'A40M05N', 'A80M10N'])\n",
    "outputs_dict[\"1D_3L_chart.csv\"] = np.array(['rok'])\n",
    "outputs_dict[\"pz_2a.csv\"] = np.array(['rok'])\n",
    "outputs_dict[\"pz_3L.csv\"] = np.array(['PZ'])\n",
    "\n",
    "inputs_dict[\"1D_1L.csv\"] =  np.array(['ro_well', 'ro_formation', 'd_well', 'invasion_zone_h', 'invasion_zone_ro'])\n",
    "inputs_dict[\"1D_2A.csv\"] = np.array(['ro_well', 'ro_formation', 'rad_well', 'kanisotrop'])\n",
    "inputs_dict[\"1D_2L.csv\"] = np.array(['ro_well', 'ro_formation', 'd_well'])\n",
    "inputs_dict[\"1D_2L_chart.csv\"] = np.array(['AO/d', 'lambda', 'ro_formation'])\n",
    "inputs_dict[\"1D_3L.csv\"] = np.array(['ro_well', 'ro_formation', 'd_well', 'invasion_zone_ro', 'invasion_zone_h'])\n",
    "inputs_dict[\"1D_3L_chart.csv\"] = np.array(['AO/d', 'ro_formation', 'invasion_zone_ro', 'D/d'])\n",
    "inputs_dict[\"pz_2a.csv\"] = np.array(['ro_well', 'ro_formation', 'r_well', 'lambda1'])\n",
    "inputs_dict[\"pz_3L.csv\"] = np.array(['ro_well', 'ro_formation', 'r_well', 'invasion_zone_h', 'invasion_zone_ro'])"
   ],
   "metadata": {
    "collapsed": false,
    "pycharm": {
     "name": "#%%\n"
    }
   }
  },
  {
   "cell_type": "code",
   "execution_count": 7,
   "outputs": [],
   "source": [
    "def plot_comparison(dataset_name: str, simulation_data_dict: dict, outputs_dict: dict):\n",
    "    df = pd.read_csv(origin_datasets_dir + dataset_name)\n",
    "    outputs = outputs_dict[dataset_name]\n",
    "\n",
    "    def extract_data(simulation_dict: dict):\n",
    "        simulation_dataset = simulation_dict['dataset']\n",
    "        st_pos = simulation_dict['st_pos']\n",
    "        count = simulation_dict['count']\n",
    "\n",
    "        actual_data = torch.tensor(df[st_pos:st_pos + count][outputs].to_numpy())\n",
    "        simulation_data = torch.tensor(simulation_dataset[:count][outputs].to_numpy())\n",
    "\n",
    "        assert actual_data.size() == simulation_data.size()\n",
    "\n",
    "        return actual_data, simulation_data\n",
    "\n",
    "    actuals = torch.tensor([])\n",
    "    simulated = torch.tensor([])\n",
    "\n",
    "    # concat data\n",
    "    for key in simulation_data_dict:\n",
    "        simulation_data = simulation_data_dict[key]\n",
    "        act, sim = extract_data(simulation_data)\n",
    "        actuals = torch.concat((actuals, act))\n",
    "        simulated = torch.concat((simulated, sim))\n",
    "\n",
    "    for i in range(len(outputs)):\n",
    "        output = outputs[i]\n",
    "        assert actuals.size() == simulated.size()\n",
    "        fig = plot_relative_error_hist(actuals[:, i], simulated[:, i], 0.01, dataset_name + \": simulation\")\n",
    "        dir_name = dataset_name.split(\".\")[0]\n",
    "\n",
    "        if not os.path.isdir(plots_dir + dir_name):\n",
    "            os.mkdir(plots_dir + dir_name)\n",
    "        fig.write_image(plots_dir + dir_name + \"/\" + output + \".pdf\")\n"
   ],
   "metadata": {
    "collapsed": false,
    "pycharm": {
     "name": "#%%\n"
    }
   }
  },
  {
   "cell_type": "code",
   "execution_count": 8,
   "outputs": [],
   "source": [
    "# first = '1D_3L_1.csv'\n",
    "# second = '1D_3L_2.csv'\n",
    "#\n",
    "# sim_data_dict = {\n",
    "#     first : {\n",
    "#         'dataset': pd.read_csv(data_dir + first),\n",
    "#         'st_pos': 0,\n",
    "#         'count' : 36\n",
    "#     },\n",
    "#     second: {\n",
    "#         'dataset': pd.read_csv(data_dir + second),\n",
    "#         'st_pos': 516612,\n",
    "#         'count' : 37\n",
    "#     }\n",
    "# }\n",
    "# #plot_comparison('1D_3L.csv', sim_data_dict, outputs_dict)"
   ],
   "metadata": {
    "collapsed": false,
    "pycharm": {
     "name": "#%%\n"
    }
   }
  },
  {
   "cell_type": "code",
   "execution_count": 62,
   "outputs": [
    {
     "name": "stderr",
     "output_type": "stream",
     "text": [
      "pydev debugger: Unable to find real location for: C:\\Users\\Andrey\\AppData\\Local\\Temp\\ipykernel_420\\1373300899.py\n",
      "pydev debugger: Unable to find real location for: C:\\Users\\Andrey\\AppData\\Local\\Temp\\ipykernel_420\\1007791582.py\n"
     ]
    },
    {
     "ename": "KeyboardInterrupt",
     "evalue": "",
     "output_type": "error",
     "traceback": [
      "\u001B[1;31m---------------------------------------------------------------------------\u001B[0m",
      "\u001B[1;31mKeyboardInterrupt\u001B[0m                         Traceback (most recent call last)",
      "Cell \u001B[1;32mIn[62], line 25\u001B[0m\n\u001B[0;32m     22\u001B[0m     \u001B[38;5;28;01mreturn\u001B[39;00m result_subset_actual, result_subset_simulated\n\u001B[0;32m     24\u001B[0m first \u001B[38;5;241m=\u001B[39m pd\u001B[38;5;241m.\u001B[39mread_csv(data_dir \u001B[38;5;241m+\u001B[39m \u001B[38;5;124m'\u001B[39m\u001B[38;5;124m1D_3L_chart.csv\u001B[39m\u001B[38;5;124m'\u001B[39m)\u001B[38;5;241m.\u001B[39mhead(\u001B[38;5;241m1000\u001B[39m)\n\u001B[1;32m---> 25\u001B[0m subset_actual, subset_simulated \u001B[38;5;241m=\u001B[39m \u001B[43mselect_existing_subset\u001B[49m\u001B[43m(\u001B[49m\u001B[38;5;124;43m'\u001B[39;49m\u001B[38;5;124;43m1D_3L_chart.csv\u001B[39;49m\u001B[38;5;124;43m'\u001B[39;49m\u001B[43m,\u001B[49m\u001B[43m \u001B[49m\u001B[43mfirst\u001B[49m\u001B[43m,\u001B[49m\u001B[43m \u001B[49m\u001B[38;5;241;43m0\u001B[39;49m\u001B[43m,\u001B[49m\u001B[43m \u001B[49m\u001B[38;5;241;43m1000\u001B[39;49m\u001B[43m)\u001B[49m\n",
      "Cell \u001B[1;32mIn[62], line 13\u001B[0m, in \u001B[0;36mselect_existing_subset\u001B[1;34m(dataset_name, simulation_df, st_pos, count)\u001B[0m\n\u001B[0;32m     11\u001B[0m \u001B[38;5;28;01mfor\u001B[39;00m i \u001B[38;5;129;01min\u001B[39;00m \u001B[38;5;28mrange\u001B[39m(\u001B[38;5;28mlen\u001B[39m(sim_in_data)):\n\u001B[0;32m     12\u001B[0m     row \u001B[38;5;241m=\u001B[39m sim_in_data[i]\n\u001B[1;32m---> 13\u001B[0m     selected_rows \u001B[38;5;241m=\u001B[39m \u001B[43mactual_df\u001B[49m[np\u001B[38;5;241m.\u001B[39mall(actual_df[inputs]\u001B[38;5;241m.\u001B[39mvalues \u001B[38;5;241m==\u001B[39m row, axis\u001B[38;5;241m=\u001B[39m\u001B[38;5;241m1\u001B[39m)]\n\u001B[0;32m     15\u001B[0m     \u001B[38;5;28;01mif\u001B[39;00m selected_rows\u001B[38;5;241m.\u001B[39mshape[\u001B[38;5;241m0\u001B[39m] \u001B[38;5;241m==\u001B[39m \u001B[38;5;241m0\u001B[39m: \u001B[38;5;66;03m# input with specified values doesn't contained in actual df\u001B[39;00m\n\u001B[0;32m     16\u001B[0m         \u001B[38;5;28;01mcontinue\u001B[39;00m\n",
      "File \u001B[1;32mC:\\IDE\\PyCharm 2022.2\\plugins\\python\\helpers\\pydev\\_pydevd_bundle\\pydevd_frame.py:880\u001B[0m, in \u001B[0;36mPyDBFrame.trace_dispatch\u001B[1;34m(self, frame, event, arg)\u001B[0m\n\u001B[0;32m    877\u001B[0m             stop \u001B[38;5;241m=\u001B[39m \u001B[38;5;28;01mFalse\u001B[39;00m\n\u001B[0;32m    879\u001B[0m \u001B[38;5;28;01mif\u001B[39;00m plugin_stop:\n\u001B[1;32m--> 880\u001B[0m     stopped_on_plugin \u001B[38;5;241m=\u001B[39m \u001B[43mplugin_manager\u001B[49m\u001B[38;5;241;43m.\u001B[39;49m\u001B[43mstop\u001B[49m\u001B[43m(\u001B[49m\u001B[43mmain_debugger\u001B[49m\u001B[43m,\u001B[49m\u001B[43m \u001B[49m\u001B[43mframe\u001B[49m\u001B[43m,\u001B[49m\u001B[43m \u001B[49m\u001B[43mevent\u001B[49m\u001B[43m,\u001B[49m\u001B[43m \u001B[49m\u001B[38;5;28;43mself\u001B[39;49m\u001B[38;5;241;43m.\u001B[39;49m\u001B[43m_args\u001B[49m\u001B[43m,\u001B[49m\u001B[43m \u001B[49m\u001B[43mstop_info\u001B[49m\u001B[43m,\u001B[49m\u001B[43m \u001B[49m\u001B[43marg\u001B[49m\u001B[43m,\u001B[49m\u001B[43m \u001B[49m\u001B[43mstep_cmd\u001B[49m\u001B[43m)\u001B[49m\n\u001B[0;32m    881\u001B[0m \u001B[38;5;28;01melif\u001B[39;00m stop:\n\u001B[0;32m    882\u001B[0m     \u001B[38;5;28;01mif\u001B[39;00m is_line:\n",
      "File \u001B[1;32mC:\\IDE\\PyCharm 2022.2\\plugins\\python\\helpers-pro\\jupyter_debug\\pydev_jupyter_plugin.py:169\u001B[0m, in \u001B[0;36mstop\u001B[1;34m(plugin, pydb, frame, event, args, stop_info, arg, step_cmd)\u001B[0m\n\u001B[0;32m    167\u001B[0m     frame \u001B[38;5;241m=\u001B[39m suspend_jupyter(main_debugger, thread, frame, step_cmd)\n\u001B[0;32m    168\u001B[0m     \u001B[38;5;28;01mif\u001B[39;00m frame:\n\u001B[1;32m--> 169\u001B[0m         \u001B[43mmain_debugger\u001B[49m\u001B[38;5;241;43m.\u001B[39;49m\u001B[43mdo_wait_suspend\u001B[49m\u001B[43m(\u001B[49m\u001B[43mthread\u001B[49m\u001B[43m,\u001B[49m\u001B[43m \u001B[49m\u001B[43mframe\u001B[49m\u001B[43m,\u001B[49m\u001B[43m \u001B[49m\u001B[43mevent\u001B[49m\u001B[43m,\u001B[49m\u001B[43m \u001B[49m\u001B[43marg\u001B[49m\u001B[43m)\u001B[49m\n\u001B[0;32m    170\u001B[0m         \u001B[38;5;28;01mreturn\u001B[39;00m \u001B[38;5;28;01mTrue\u001B[39;00m\n\u001B[0;32m    171\u001B[0m \u001B[38;5;28;01mreturn\u001B[39;00m \u001B[38;5;28;01mFalse\u001B[39;00m\n",
      "File \u001B[1;32mC:\\IDE\\PyCharm 2022.2\\plugins\\python\\helpers\\pydev\\pydevd.py:1160\u001B[0m, in \u001B[0;36mPyDB.do_wait_suspend\u001B[1;34m(self, thread, frame, event, arg, send_suspend_message, is_unhandled_exception)\u001B[0m\n\u001B[0;32m   1157\u001B[0m         from_this_thread\u001B[38;5;241m.\u001B[39mappend(frame_id)\n\u001B[0;32m   1159\u001B[0m \u001B[38;5;28;01mwith\u001B[39;00m \u001B[38;5;28mself\u001B[39m\u001B[38;5;241m.\u001B[39m_threads_suspended_single_notification\u001B[38;5;241m.\u001B[39mnotify_thread_suspended(thread_id, stop_reason):\n\u001B[1;32m-> 1160\u001B[0m     \u001B[38;5;28;43mself\u001B[39;49m\u001B[38;5;241;43m.\u001B[39;49m\u001B[43m_do_wait_suspend\u001B[49m\u001B[43m(\u001B[49m\u001B[43mthread\u001B[49m\u001B[43m,\u001B[49m\u001B[43m \u001B[49m\u001B[43mframe\u001B[49m\u001B[43m,\u001B[49m\u001B[43m \u001B[49m\u001B[43mevent\u001B[49m\u001B[43m,\u001B[49m\u001B[43m \u001B[49m\u001B[43marg\u001B[49m\u001B[43m,\u001B[49m\u001B[43m \u001B[49m\u001B[43msuspend_type\u001B[49m\u001B[43m,\u001B[49m\u001B[43m \u001B[49m\u001B[43mfrom_this_thread\u001B[49m\u001B[43m)\u001B[49m\n",
      "File \u001B[1;32mC:\\IDE\\PyCharm 2022.2\\plugins\\python\\helpers\\pydev\\pydevd.py:1175\u001B[0m, in \u001B[0;36mPyDB._do_wait_suspend\u001B[1;34m(self, thread, frame, event, arg, suspend_type, from_this_thread)\u001B[0m\n\u001B[0;32m   1172\u001B[0m             \u001B[38;5;28mself\u001B[39m\u001B[38;5;241m.\u001B[39m_call_mpl_hook()\n\u001B[0;32m   1174\u001B[0m         \u001B[38;5;28mself\u001B[39m\u001B[38;5;241m.\u001B[39mprocess_internal_commands()\n\u001B[1;32m-> 1175\u001B[0m         time\u001B[38;5;241m.\u001B[39msleep(\u001B[38;5;241m0.01\u001B[39m)\n\u001B[0;32m   1177\u001B[0m \u001B[38;5;28mself\u001B[39m\u001B[38;5;241m.\u001B[39mcancel_async_evaluation(get_current_thread_id(thread), \u001B[38;5;28mstr\u001B[39m(\u001B[38;5;28mid\u001B[39m(frame)))\n\u001B[0;32m   1179\u001B[0m \u001B[38;5;66;03m# process any stepping instructions\u001B[39;00m\n",
      "\u001B[1;31mKeyboardInterrupt\u001B[0m: "
     ]
    }
   ],
   "source": [
    "def select_existing_subset(dataset_name, simulation_df, st_pos, count):\n",
    "    inputs = inputs_dict[dataset_name]\n",
    "    columns = pd.read_csv(origin_datasets_dir + dataset_name, nrows=1).columns\n",
    "    actual_df = pd.read_csv(origin_datasets_dir + dataset_name, skiprows=st_pos, nrows=count)\n",
    "    actual_df.columns = columns\n",
    "\n",
    "    sim_in_data = simulation_df[inputs].to_numpy()\n",
    "    result_subset_actual = pd.DataFrame({})\n",
    "    result_subset_simulated = pd.DataFrame({})\n",
    "\n",
    "    for i in range(len(sim_in_data)):\n",
    "        row = sim_in_data[i]\n",
    "        selected_rows = actual_df[np.all(actual_df[inputs].values == row, axis=1)]\n",
    "\n",
    "        if selected_rows.shape[0] == 0: # input with specified values doesn't contained in actual df\n",
    "            continue\n",
    "        assert selected_rows.shape[0] == 1  # one row expects\n",
    "\n",
    "        result_subset_actual = pd.concat([result_subset_actual, selected_rows], axis=0)\n",
    "        result_subset_simulated = pd.concat([result_subset_simulated, simulation_df.iloc[[i]]])\n",
    "\n",
    "    return result_subset_actual, result_subset_simulated"
   ],
   "metadata": {
    "collapsed": false,
    "pycharm": {
     "name": "#%%\n"
    }
   }
  },
  {
   "cell_type": "markdown",
   "source": [
    "# 1D_3L"
   ],
   "metadata": {
    "collapsed": false,
    "pycharm": {
     "name": "#%% md\n"
    }
   }
  },
  {
   "cell_type": "code",
   "execution_count": 10,
   "outputs": [],
   "source": [
    "first = pd.read_csv(data_dir + '1D_3L_1.csv')\n",
    "second = pd.read_csv(data_dir + '1D_3L_2.csv')\n",
    "subset_actual, subset_simulated = select_existing_subset('1D_3L.csv', first, 0, 1000)\n",
    "subset_actual2, subset_simulated2 = select_existing_subset('1D_3L.csv', second, 516612, 1000)"
   ],
   "metadata": {
    "collapsed": false,
    "pycharm": {
     "name": "#%%\n"
    }
   }
  },
  {
   "cell_type": "code",
   "execution_count": null,
   "outputs": [],
   "source": [
    "subset_simulated = pd.concat([subset_simulated, subset_simulated2], axis=0).reset_index().drop(['index'], axis=1)\n",
    "subset_simulated"
   ],
   "metadata": {
    "collapsed": false,
    "pycharm": {
     "name": "#%%\n",
     "is_executing": true
    }
   }
  },
  {
   "cell_type": "code",
   "execution_count": null,
   "outputs": [],
   "source": [
    "subset_actual = pd.concat([subset_actual, subset_actual2], axis=0).reset_index().drop(['index'], axis=1)\n",
    "subset_actual"
   ],
   "metadata": {
    "collapsed": false,
    "pycharm": {
     "name": "#%%\n",
     "is_executing": true
    }
   }
  },
  {
   "cell_type": "code",
   "execution_count": null,
   "outputs": [],
   "source": [
    "subset_simulated[inputs_dict['1D_3L.csv']] == subset_actual[inputs_dict['1D_3L.csv']]"
   ],
   "metadata": {
    "collapsed": false,
    "pycharm": {
     "name": "#%%\n",
     "is_executing": true
    }
   }
  },
  {
   "cell_type": "code",
   "execution_count": 14,
   "outputs": [],
   "source": [
    "def plot_comparisons(dataset_name: str, actual_df, simulated_df):\n",
    "    outputs = outputs_dict[dataset_name]\n",
    "    actuals = torch.tensor(actual_df[outputs].to_numpy())\n",
    "    simulated = torch.tensor(simulated_df[outputs].to_numpy())\n",
    "\n",
    "    for i in range(len(outputs)):\n",
    "        output = outputs[i]\n",
    "        assert actuals.size() == simulated.size()\n",
    "        fig = plot_relative_error_hist(actuals[:, i], simulated[:, i], 0.01, dataset_name + \": simulation\")\n",
    "        dir_name = dataset_name.split(\".\")[0]\n",
    "\n",
    "        if not os.path.isdir(plots_dir + dir_name):\n",
    "            os.mkdir(plots_dir + dir_name)\n",
    "        fig.write_image(plots_dir + dir_name + \"/\" + output + \".pdf\")\n",
    "\n",
    "plot_comparisons('1D_3L.csv', subset_actual, subset_simulated)"
   ],
   "metadata": {
    "collapsed": false,
    "pycharm": {
     "name": "#%%\n"
    }
   }
  },
  {
   "cell_type": "markdown",
   "source": [
    "# 1D_2A"
   ],
   "metadata": {
    "collapsed": false,
    "pycharm": {
     "name": "#%% md\n"
    }
   }
  },
  {
   "cell_type": "code",
   "execution_count": 32,
   "outputs": [],
   "source": [
    "first = pd.read_csv(data_dir + '1D_2A.csv')\n",
    "second = pd.read_csv(data_dir + '1D_2A_2.csv')\n",
    "subset_actual, subset_simulated = select_existing_subset('1D_2A.csv', first, 0, 1000)\n",
    "subset_actual2, subset_simulated2 = select_existing_subset('1D_2A.csv', second, 520696, 1000)"
   ],
   "metadata": {
    "collapsed": false,
    "pycharm": {
     "name": "#%%\n"
    }
   }
  },
  {
   "cell_type": "code",
   "execution_count": null,
   "outputs": [],
   "source": [
    "subset_actual"
   ],
   "metadata": {
    "collapsed": false,
    "pycharm": {
     "name": "#%%\n",
     "is_executing": true
    }
   }
  },
  {
   "cell_type": "code",
   "execution_count": 28,
   "outputs": [
    {
     "data": {
      "text/plain": "Empty DataFrame\nColumns: []\nIndex: []",
      "text/html": "<div>\n<style scoped>\n    .dataframe tbody tr th:only-of-type {\n        vertical-align: middle;\n    }\n\n    .dataframe tbody tr th {\n        vertical-align: top;\n    }\n\n    .dataframe thead th {\n        text-align: right;\n    }\n</style>\n<table border=\"1\" class=\"dataframe\">\n  <thead>\n    <tr style=\"text-align: right;\">\n      <th></th>\n    </tr>\n  </thead>\n  <tbody>\n  </tbody>\n</table>\n</div>"
     },
     "execution_count": 28,
     "metadata": {},
     "output_type": "execute_result"
    }
   ],
   "source": [
    "subset_actual2"
   ],
   "metadata": {
    "collapsed": false,
    "pycharm": {
     "name": "#%%\n"
    }
   }
  },
  {
   "cell_type": "code",
   "execution_count": null,
   "outputs": [],
   "source": [
    "subset_simulated = pd.concat([subset_simulated, subset_simulated2], axis=0).reset_index().drop(['index'], axis=1)\n",
    "subset_simulated"
   ],
   "metadata": {
    "collapsed": false,
    "pycharm": {
     "name": "#%%\n",
     "is_executing": true
    }
   }
  },
  {
   "cell_type": "code",
   "execution_count": null,
   "outputs": [],
   "source": [
    "subset_actual = pd.concat([subset_actual, subset_actual2], axis=0).reset_index().drop(['index'], axis=1)\n",
    "subset_actual"
   ],
   "metadata": {
    "collapsed": false,
    "pycharm": {
     "name": "#%%\n",
     "is_executing": true
    }
   }
  },
  {
   "cell_type": "code",
   "execution_count": null,
   "outputs": [],
   "source": [
    "subset_simulated[inputs_dict['1D_2A.csv']] == subset_actual[inputs_dict['1D_2A.csv']]"
   ],
   "metadata": {
    "collapsed": false,
    "pycharm": {
     "name": "#%%\n",
     "is_executing": true
    }
   }
  },
  {
   "cell_type": "code",
   "execution_count": 36,
   "outputs": [],
   "source": [
    "plot_comparisons('1D_2A.csv', subset_actual, subset_simulated)"
   ],
   "metadata": {
    "collapsed": false,
    "pycharm": {
     "name": "#%%\n"
    }
   }
  },
  {
   "cell_type": "markdown",
   "source": [
    "# 1D_2L"
   ],
   "metadata": {
    "collapsed": false,
    "pycharm": {
     "name": "#%% md\n"
    }
   }
  },
  {
   "cell_type": "code",
   "execution_count": 44,
   "outputs": [],
   "source": [
    "first = pd.read_csv(data_dir + '1D_2L.csv')\n",
    "subset_actual, subset_simulated = select_existing_subset('1D_2L.csv', first, 0, 1000)"
   ],
   "metadata": {
    "collapsed": false,
    "pycharm": {
     "name": "#%%\n"
    }
   }
  },
  {
   "cell_type": "code",
   "execution_count": null,
   "outputs": [],
   "source": [
    "subset_actual = subset_actual.reset_index().drop(['index'], axis=1)\n",
    "subset_actual"
   ],
   "metadata": {
    "collapsed": false,
    "pycharm": {
     "name": "#%%\n",
     "is_executing": true
    }
   }
  },
  {
   "cell_type": "code",
   "execution_count": null,
   "outputs": [],
   "source": [
    "subset_simulated = subset_simulated.reset_index().drop(['index'], axis=1)\n",
    "subset_simulated"
   ],
   "metadata": {
    "collapsed": false,
    "pycharm": {
     "name": "#%%\n",
     "is_executing": true
    }
   }
  },
  {
   "cell_type": "code",
   "execution_count": null,
   "outputs": [],
   "source": [
    "subset_simulated[inputs_dict['1D_2L.csv']] == subset_actual[inputs_dict['1D_2L.csv']]"
   ],
   "metadata": {
    "collapsed": false,
    "pycharm": {
     "name": "#%%\n",
     "is_executing": true
    }
   }
  },
  {
   "cell_type": "code",
   "execution_count": 48,
   "outputs": [],
   "source": [
    "plot_comparisons('1D_2L.csv', subset_actual, subset_simulated)"
   ],
   "metadata": {
    "collapsed": false,
    "pycharm": {
     "name": "#%%\n"
    }
   }
  },
  {
   "cell_type": "markdown",
   "source": [
    "# 1D_2L_chart"
   ],
   "metadata": {
    "collapsed": false,
    "pycharm": {
     "name": "#%% md\n"
    }
   }
  },
  {
   "cell_type": "code",
   "execution_count": 49,
   "outputs": [],
   "source": [
    "first = pd.read_csv(data_dir + '1D_2L_chart.csv')\n",
    "subset_actual, subset_simulated = select_existing_subset('1D_2L_chart.csv', first, 0, 1000)"
   ],
   "metadata": {
    "collapsed": false,
    "pycharm": {
     "name": "#%%\n"
    }
   }
  },
  {
   "cell_type": "code",
   "execution_count": null,
   "outputs": [],
   "source": [
    "subset_actual = subset_actual.reset_index().drop(['index'], axis=1)\n",
    "subset_actual"
   ],
   "metadata": {
    "collapsed": false,
    "pycharm": {
     "name": "#%%\n",
     "is_executing": true
    }
   }
  },
  {
   "cell_type": "code",
   "execution_count": null,
   "outputs": [],
   "source": [
    "subset_simulated = subset_simulated.reset_index().drop(['index'], axis=1)\n",
    "subset_simulated"
   ],
   "metadata": {
    "collapsed": false,
    "pycharm": {
     "name": "#%%\n",
     "is_executing": true
    }
   }
  },
  {
   "cell_type": "code",
   "execution_count": null,
   "outputs": [],
   "source": [
    "subset_simulated[inputs_dict['1D_2L_chart.csv']] == subset_actual[inputs_dict['1D_2L_chart.csv']]"
   ],
   "metadata": {
    "collapsed": false,
    "pycharm": {
     "name": "#%%\n",
     "is_executing": true
    }
   }
  },
  {
   "cell_type": "code",
   "execution_count": 53,
   "outputs": [],
   "source": [
    "plot_comparisons('1D_2L_chart.csv', subset_actual, subset_simulated)"
   ],
   "metadata": {
    "collapsed": false,
    "pycharm": {
     "name": "#%%\n"
    }
   }
  },
  {
   "cell_type": "markdown",
   "source": [
    "# 1D_3L_chart"
   ],
   "metadata": {
    "collapsed": false,
    "pycharm": {
     "name": "#%% md\n"
    }
   }
  },
  {
   "cell_type": "code",
   "execution_count": 63,
   "outputs": [],
   "source": [
    "first = pd.read_csv(data_dir + '1D_3L_chart.csv').head(1000)\n",
    "subset_actual, subset_simulated = select_existing_subset('1D_3L_chart.csv', first, 0, 1000)"
   ],
   "metadata": {
    "collapsed": false,
    "pycharm": {
     "name": "#%%\n"
    }
   }
  },
  {
   "cell_type": "code",
   "execution_count": null,
   "outputs": [],
   "source": [
    "subset_actual = subset_actual.reset_index().drop(['index'], axis=1)\n",
    "subset_actual"
   ],
   "metadata": {
    "collapsed": false,
    "pycharm": {
     "name": "#%%\n",
     "is_executing": true
    }
   }
  },
  {
   "cell_type": "code",
   "execution_count": null,
   "outputs": [],
   "source": [
    "subset_simulated = subset_simulated.reset_index().drop(['index'], axis=1)\n",
    "subset_simulated"
   ],
   "metadata": {
    "collapsed": false,
    "pycharm": {
     "name": "#%%\n",
     "is_executing": true
    }
   }
  },
  {
   "cell_type": "code",
   "execution_count": null,
   "outputs": [],
   "source": [
    "subset_simulated[inputs_dict['1D_3L_chart.csv']] == subset_actual[inputs_dict['1D_3L_chart.csv']]"
   ],
   "metadata": {
    "collapsed": false,
    "pycharm": {
     "name": "#%%\n",
     "is_executing": true
    }
   }
  },
  {
   "cell_type": "code",
   "execution_count": 67,
   "outputs": [],
   "source": [
    "plot_comparisons('1D_3L_chart.csv', subset_actual, subset_simulated)"
   ],
   "metadata": {
    "collapsed": false,
    "pycharm": {
     "name": "#%%\n"
    }
   }
  },
  {
   "cell_type": "markdown",
   "source": [
    "# pz_2a"
   ],
   "metadata": {
    "collapsed": false,
    "pycharm": {
     "name": "#%% md\n"
    }
   }
  },
  {
   "cell_type": "code",
   "execution_count": 77,
   "outputs": [],
   "source": [
    "first = pd.read_csv(data_dir + 'pz_2a.csv').head(1000)\n",
    "first.rename(columns={'d_well':'r_well'}, inplace=True)\n",
    "first['r_well'] = first['r_well'] / 2\n",
    "subset_actual, subset_simulated = select_existing_subset('pz_2a.csv', first, 0, 1000)"
   ],
   "metadata": {
    "collapsed": false,
    "pycharm": {
     "name": "#%%\n"
    }
   }
  },
  {
   "cell_type": "code",
   "execution_count": null,
   "outputs": [],
   "source": [
    "subset_actual = subset_actual.reset_index().drop(['index'], axis=1)\n",
    "subset_actual"
   ],
   "metadata": {
    "collapsed": false,
    "pycharm": {
     "name": "#%%\n",
     "is_executing": true
    }
   }
  },
  {
   "cell_type": "code",
   "execution_count": null,
   "outputs": [],
   "source": [
    "subset_simulated = subset_simulated.reset_index().drop(['index'], axis=1)\n",
    "subset_simulated"
   ],
   "metadata": {
    "collapsed": false,
    "pycharm": {
     "name": "#%%\n",
     "is_executing": true
    }
   }
  },
  {
   "cell_type": "code",
   "execution_count": null,
   "outputs": [],
   "source": [
    "subset_simulated[inputs_dict['pz_2a.csv']] == subset_actual[inputs_dict['pz_2a.csv']]"
   ],
   "metadata": {
    "collapsed": false,
    "pycharm": {
     "name": "#%%\n",
     "is_executing": true
    }
   }
  },
  {
   "cell_type": "code",
   "execution_count": 81,
   "outputs": [],
   "source": [
    "plot_comparisons('pz_2a.csv', subset_actual, subset_simulated)"
   ],
   "metadata": {
    "collapsed": false,
    "pycharm": {
     "name": "#%%\n"
    }
   }
  },
  {
   "cell_type": "markdown",
   "source": [
    "# pz_3L"
   ],
   "metadata": {
    "collapsed": false,
    "pycharm": {
     "name": "#%% md\n"
    }
   }
  },
  {
   "cell_type": "code",
   "execution_count": 82,
   "outputs": [],
   "source": [
    "first = pd.read_csv(data_dir + 'pz_3L.csv').head(1000)\n",
    "subset_actual, subset_simulated = select_existing_subset('pz_3L.csv', first, 0, 1000)"
   ],
   "metadata": {
    "collapsed": false,
    "pycharm": {
     "name": "#%%\n"
    }
   }
  },
  {
   "cell_type": "code",
   "execution_count": null,
   "outputs": [],
   "source": [
    "subset_actual = subset_actual.reset_index().drop(['index'], axis=1)\n",
    "subset_actual"
   ],
   "metadata": {
    "collapsed": false,
    "pycharm": {
     "name": "#%%\n",
     "is_executing": true
    }
   }
  },
  {
   "cell_type": "code",
   "execution_count": null,
   "outputs": [],
   "source": [
    "subset_simulated = subset_simulated.reset_index().drop(['index'], axis=1)\n",
    "subset_simulated"
   ],
   "metadata": {
    "collapsed": false,
    "pycharm": {
     "name": "#%%\n",
     "is_executing": true
    }
   }
  },
  {
   "cell_type": "code",
   "execution_count": null,
   "outputs": [],
   "source": [
    "subset_simulated[inputs_dict['pz_3L.csv']] == subset_actual[inputs_dict['pz_3L.csv']]"
   ],
   "metadata": {
    "collapsed": false,
    "pycharm": {
     "name": "#%%\n",
     "is_executing": true
    }
   }
  },
  {
   "cell_type": "code",
   "execution_count": 86,
   "outputs": [],
   "source": [
    "plot_comparisons('pz_3L.csv', subset_actual, subset_simulated)"
   ],
   "metadata": {
    "collapsed": false,
    "pycharm": {
     "name": "#%%\n"
    }
   }
  }
 ],
 "metadata": {
  "kernelspec": {
   "display_name": "Python 3",
   "language": "python",
   "name": "python3"
  },
  "language_info": {
   "codemirror_mode": {
    "name": "ipython",
    "version": 2
   },
   "file_extension": ".py",
   "mimetype": "text/x-python",
   "name": "python",
   "nbconvert_exporter": "python",
   "pygments_lexer": "ipython2",
   "version": "2.7.6"
  }
 },
 "nbformat": 4,
 "nbformat_minor": 0
}