{
 "cells": [
  {
   "cell_type": "code",
   "execution_count": null,
   "outputs": [],
   "source": [
    "import numpy as np\n",
    "import pandas as pd\n",
    "from tools.torch_lib import plot_relative_error_hist, plot_relative_error_shader\n",
    "import torch"
   ],
   "metadata": {
    "collapsed": false,
    "pycharm": {
     "name": "#%%\n"
    }
   }
  },
  {
   "cell_type": "code",
   "execution_count": null,
   "metadata": {
    "collapsed": true,
    "pycharm": {
     "name": "#%%\n"
    }
   },
   "outputs": [],
   "source": [
    "data_dir = \"data/\"\n",
    "predictions_file_name = \"test_predictions.csv\"\n",
    "actuals_file_name = \"test_data.csv\""
   ]
  },
  {
   "cell_type": "code",
   "execution_count": null,
   "outputs": [],
   "source": [
    "inputs = np.array(['AO/d', 'ro_formation', 'invasion_zone_ro', 'D/d'])\n",
    "outputs = np.array(['rok']) # 'A02M01N' dropped"
   ],
   "metadata": {
    "collapsed": false,
    "pycharm": {
     "name": "#%%\n"
    }
   }
  },
  {
   "cell_type": "code",
   "execution_count": null,
   "outputs": [],
   "source": [
    "predicted_df = pd.read_csv(data_dir + predictions_file_name)\n",
    "actuals_df = pd.read_csv(data_dir + actuals_file_name)"
   ],
   "metadata": {
    "collapsed": false,
    "pycharm": {
     "name": "#%%\n"
    }
   }
  },
  {
   "cell_type": "code",
   "execution_count": null,
   "outputs": [],
   "source": [
    "for column in actuals_df.columns:\n",
    "    print(f\"{column}: min={actuals_df[column].min()} max={actuals_df[column].max()}\")"
   ],
   "metadata": {
    "collapsed": false,
    "pycharm": {
     "name": "#%%\n"
    }
   }
  },
  {
   "cell_type": "code",
   "execution_count": null,
   "outputs": [],
   "source": [
    "predicted_df"
   ],
   "metadata": {
    "collapsed": false,
    "pycharm": {
     "name": "#%%\n"
    }
   }
  },
  {
   "cell_type": "code",
   "execution_count": null,
   "outputs": [],
   "source": [
    "actuals_df = actuals_df[outputs]\n",
    "actuals_df"
   ],
   "metadata": {
    "collapsed": false,
    "pycharm": {
     "name": "#%%\n"
    }
   }
  },
  {
   "cell_type": "markdown",
   "source": [
    "Plot relative errors"
   ],
   "metadata": {
    "collapsed": false,
    "pycharm": {
     "name": "#%% md\n"
    }
   }
  },
  {
   "cell_type": "code",
   "execution_count": null,
   "outputs": [],
   "source": [
    "threshold = 0.05\n",
    "def save_and_show_fig(fig, fig_name: str, show=True):\n",
    "    if fig is not None:\n",
    "        if show:\n",
    "            fig.show('browser')\n",
    "        fig.write_image(fig_name)\n",
    "\n",
    "for output in outputs:\n",
    "    actuals = torch.tensor(actuals_df[output].to_numpy())\n",
    "    predicted = torch.tensor(predicted_df[output].to_numpy())\n",
    "    # plot hist and default relative error distribution\n",
    "    hist = plot_relative_error_hist(actuals, predicted, threshold, \"relative error hist \" + output)\n",
    "    dist = plot_relative_error_shader(actuals, predicted, threshold, \"relative error \" + output, width=10000, height=500)\n",
    "\n",
    "    save_and_show_fig(hist, \"relative_error_hist_\" + output + \".pdf\")\n",
    "    save_and_show_fig(dist, \"relative_error_\" + output + \".pdf\", False)"
   ],
   "metadata": {
    "collapsed": false,
    "pycharm": {
     "name": "#%%\n"
    }
   }
  }
 ],
 "metadata": {
  "kernelspec": {
   "display_name": "Python 3",
   "language": "python",
   "name": "python3"
  },
  "language_info": {
   "codemirror_mode": {
    "name": "ipython",
    "version": 2
   },
   "file_extension": ".py",
   "mimetype": "text/x-python",
   "name": "python",
   "nbconvert_exporter": "python",
   "pygments_lexer": "ipython2",
   "version": "2.7.6"
  }
 },
 "nbformat": 4,
 "nbformat_minor": 0
}